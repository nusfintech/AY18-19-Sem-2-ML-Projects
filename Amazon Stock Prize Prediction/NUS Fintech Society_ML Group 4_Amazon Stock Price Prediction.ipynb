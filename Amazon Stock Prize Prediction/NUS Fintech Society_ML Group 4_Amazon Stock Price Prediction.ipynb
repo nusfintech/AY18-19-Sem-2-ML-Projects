{
 "cells": [
  {
   "cell_type": "code",
   "execution_count": 1,
   "metadata": {
    "colab": {
     "base_uri": "https://localhost:8080/",
     "height": 649
    },
    "colab_type": "code",
    "executionInfo": {
     "elapsed": 12921,
     "status": "ok",
     "timestamp": 1554808682978,
     "user": {
      "displayName": "Bjorn Jee",
      "photoUrl": "",
      "userId": "01524592455651190370"
     },
     "user_tz": -480
    },
    "id": "6ZySAIRs07FG",
    "outputId": "cd8019a1-3ec7-4257-f82e-19e1012b4259"
   },
   "outputs": [
    {
     "name": "stdout",
     "output_type": "stream",
     "text": [
      "Requirement already satisfied: seaborn==0.9.0 in /usr/local/lib/python3.6/dist-packages (0.9.0)\n",
      "Requirement already satisfied: scipy>=0.14.0 in /usr/local/lib/python3.6/dist-packages (from seaborn==0.9.0) (1.1.0)\n",
      "Requirement already satisfied: matplotlib>=1.4.3 in /usr/local/lib/python3.6/dist-packages (from seaborn==0.9.0) (3.0.3)\n",
      "Requirement already satisfied: pandas>=0.15.2 in /usr/local/lib/python3.6/dist-packages (from seaborn==0.9.0) (0.22.0)\n",
      "Requirement already satisfied: numpy>=1.9.3 in /usr/local/lib/python3.6/dist-packages (from seaborn==0.9.0) (1.14.6)\n",
      "Requirement already satisfied: cycler>=0.10 in /usr/local/lib/python3.6/dist-packages (from matplotlib>=1.4.3->seaborn==0.9.0) (0.10.0)\n",
      "Requirement already satisfied: python-dateutil>=2.1 in /usr/local/lib/python3.6/dist-packages (from matplotlib>=1.4.3->seaborn==0.9.0) (2.5.3)\n",
      "Requirement already satisfied: pyparsing!=2.0.4,!=2.1.2,!=2.1.6,>=2.0.1 in /usr/local/lib/python3.6/dist-packages (from matplotlib>=1.4.3->seaborn==0.9.0) (2.3.1)\n",
      "Requirement already satisfied: kiwisolver>=1.0.1 in /usr/local/lib/python3.6/dist-packages (from matplotlib>=1.4.3->seaborn==0.9.0) (1.0.1)\n",
      "Requirement already satisfied: pytz>=2011k in /usr/local/lib/python3.6/dist-packages (from pandas>=0.15.2->seaborn==0.9.0) (2018.9)\n",
      "Requirement already satisfied: six in /usr/local/lib/python3.6/dist-packages (from cycler>=0.10->matplotlib>=1.4.3->seaborn==0.9.0) (1.11.0)\n",
      "Requirement already satisfied: setuptools in /usr/local/lib/python3.6/dist-packages (from kiwisolver>=1.0.1->matplotlib>=1.4.3->seaborn==0.9.0) (40.9.0)\n",
      "Requirement already satisfied: statsmodels==0.9.0 in /usr/local/lib/python3.6/dist-packages (0.9.0)\n",
      "Requirement already satisfied: pandas in /usr/local/lib/python3.6/dist-packages (from statsmodels==0.9.0) (0.22.0)\n",
      "Requirement already satisfied: patsy in /usr/local/lib/python3.6/dist-packages (from statsmodels==0.9.0) (0.5.1)\n",
      "Requirement already satisfied: pytz>=2011k in /usr/local/lib/python3.6/dist-packages (from pandas->statsmodels==0.9.0) (2018.9)\n",
      "Requirement already satisfied: python-dateutil>=2 in /usr/local/lib/python3.6/dist-packages (from pandas->statsmodels==0.9.0) (2.5.3)\n",
      "Requirement already satisfied: numpy>=1.9.0 in /usr/local/lib/python3.6/dist-packages (from pandas->statsmodels==0.9.0) (1.14.6)\n",
      "Requirement already satisfied: six in /usr/local/lib/python3.6/dist-packages (from patsy->statsmodels==0.9.0) (1.11.0)\n",
      "Requirement already satisfied: tensorflow==1.12.0 in /usr/local/lib/python3.6/dist-packages (1.12.0)\n",
      "Requirement already satisfied: numpy>=1.13.3 in /usr/local/lib/python3.6/dist-packages (from tensorflow==1.12.0) (1.14.6)\n",
      "Requirement already satisfied: termcolor>=1.1.0 in /usr/local/lib/python3.6/dist-packages (from tensorflow==1.12.0) (1.1.0)\n",
      "Requirement already satisfied: grpcio>=1.8.6 in /usr/local/lib/python3.6/dist-packages (from tensorflow==1.12.0) (1.15.0)\n",
      "Requirement already satisfied: wheel>=0.26 in /usr/local/lib/python3.6/dist-packages (from tensorflow==1.12.0) (0.33.1)\n",
      "Requirement already satisfied: keras-preprocessing>=1.0.5 in /usr/local/lib/python3.6/dist-packages (from tensorflow==1.12.0) (1.0.9)\n",
      "Requirement already satisfied: keras-applications>=1.0.6 in /usr/local/lib/python3.6/dist-packages (from tensorflow==1.12.0) (1.0.7)\n",
      "Requirement already satisfied: astor>=0.6.0 in /usr/local/lib/python3.6/dist-packages (from tensorflow==1.12.0) (0.7.1)\n",
      "Requirement already satisfied: protobuf>=3.6.1 in /usr/local/lib/python3.6/dist-packages (from tensorflow==1.12.0) (3.7.1)\n",
      "Requirement already satisfied: gast>=0.2.0 in /usr/local/lib/python3.6/dist-packages (from tensorflow==1.12.0) (0.2.2)\n",
      "Requirement already satisfied: six>=1.10.0 in /usr/local/lib/python3.6/dist-packages (from tensorflow==1.12.0) (1.11.0)\n",
      "Requirement already satisfied: tensorboard<1.13.0,>=1.12.0 in /usr/local/lib/python3.6/dist-packages (from tensorflow==1.12.0) (1.12.2)\n",
      "Requirement already satisfied: absl-py>=0.1.6 in /usr/local/lib/python3.6/dist-packages (from tensorflow==1.12.0) (0.7.1)\n",
      "Requirement already satisfied: h5py in /usr/local/lib/python3.6/dist-packages (from keras-applications>=1.0.6->tensorflow==1.12.0) (2.8.0)\n",
      "Requirement already satisfied: setuptools in /usr/local/lib/python3.6/dist-packages (from protobuf>=3.6.1->tensorflow==1.12.0) (40.9.0)\n",
      "Requirement already satisfied: werkzeug>=0.11.10 in /usr/local/lib/python3.6/dist-packages (from tensorboard<1.13.0,>=1.12.0->tensorflow==1.12.0) (0.15.2)\n",
      "Requirement already satisfied: markdown>=2.6.8 in /usr/local/lib/python3.6/dist-packages (from tensorboard<1.13.0,>=1.12.0->tensorflow==1.12.0) (3.1)\n"
     ]
    }
   ],
   "source": [
    "!pip install seaborn==0.9.0\n",
    "!pip install statsmodels==0.9.0\n",
    "!pip install tensorflow==1.12.0"
   ]
  },
  {
   "cell_type": "code",
   "execution_count": 24,
   "metadata": {
    "colab": {},
    "colab_type": "code",
    "id": "VDt4HVv27WS8"
   },
   "outputs": [],
   "source": [
    "import pandas as pd\n",
    "import numpy as np\n",
    "import seaborn as sns\n",
    "from matplotlib import pyplot as plt\n",
    "from datetime import datetime"
   ]
  },
  {
   "cell_type": "code",
   "execution_count": 3,
   "metadata": {
    "colab": {
     "base_uri": "https://localhost:8080/",
     "height": 122
    },
    "colab_type": "code",
    "executionInfo": {
     "elapsed": 64376,
     "status": "ok",
     "timestamp": 1554800438260,
     "user": {
      "displayName": "Bjorn Jee",
      "photoUrl": "",
      "userId": "01524592455651190370"
     },
     "user_tz": -480
    },
    "id": "8Ce2stxjym35",
    "outputId": "b7b0d0cb-7bf9-4f79-908d-4b582d4e3ded"
   },
   "outputs": [
    {
     "ename": "ModuleNotFoundError",
     "evalue": "No module named 'google.colab'",
     "output_type": "error",
     "traceback": [
      "\u001b[0;31m---------------------------------------------------------------------------\u001b[0m",
      "\u001b[0;31mModuleNotFoundError\u001b[0m                       Traceback (most recent call last)",
      "\u001b[0;32m<ipython-input-3-d5df0069828e>\u001b[0m in \u001b[0;36m<module>\u001b[0;34m()\u001b[0m\n\u001b[0;32m----> 1\u001b[0;31m \u001b[0;32mfrom\u001b[0m \u001b[0mgoogle\u001b[0m\u001b[0;34m.\u001b[0m\u001b[0mcolab\u001b[0m \u001b[0;32mimport\u001b[0m \u001b[0mdrive\u001b[0m\u001b[0;34m\u001b[0m\u001b[0m\n\u001b[0m\u001b[1;32m      2\u001b[0m \u001b[0mdrive\u001b[0m\u001b[0;34m.\u001b[0m\u001b[0mmount\u001b[0m\u001b[0;34m(\u001b[0m\u001b[0;34m'/content/drive'\u001b[0m\u001b[0;34m)\u001b[0m\u001b[0;34m\u001b[0m\u001b[0m\n",
      "\u001b[0;31mModuleNotFoundError\u001b[0m: No module named 'google.colab'"
     ]
    }
   ],
   "source": [
    "from google.colab import drive\n",
    "drive.mount('/content/drive')"
   ]
  },
  {
   "cell_type": "markdown",
   "metadata": {
    "colab_type": "text",
    "id": "hJYiNtv0zL-l"
   },
   "source": [
    "### Importing Data and Data Cleaning"
   ]
  },
  {
   "cell_type": "code",
   "execution_count": 26,
   "metadata": {
    "colab": {},
    "colab_type": "code",
    "id": "nCFy1S7IyV60"
   },
   "outputs": [],
   "source": [
    "df = pd.read_csv('./all_stocks_5yr.csv')"
   ]
  },
  {
   "cell_type": "code",
   "execution_count": 27,
   "metadata": {
    "colab": {
     "base_uri": "https://localhost:8080/",
     "height": 204
    },
    "colab_type": "code",
    "executionInfo": {
     "elapsed": 1849,
     "status": "ok",
     "timestamp": 1554815041690,
     "user": {
      "displayName": "Bjorn Jee",
      "photoUrl": "",
      "userId": "01524592455651190370"
     },
     "user_tz": -480
    },
    "id": "q2jtmBi-yV65",
    "outputId": "053580ff-00e7-4811-a916-50e79c63dcec"
   },
   "outputs": [
    {
     "data": {
      "text/html": [
       "<div>\n",
       "<style scoped>\n",
       "    .dataframe tbody tr th:only-of-type {\n",
       "        vertical-align: middle;\n",
       "    }\n",
       "\n",
       "    .dataframe tbody tr th {\n",
       "        vertical-align: top;\n",
       "    }\n",
       "\n",
       "    .dataframe thead th {\n",
       "        text-align: right;\n",
       "    }\n",
       "</style>\n",
       "<table border=\"1\" class=\"dataframe\">\n",
       "  <thead>\n",
       "    <tr style=\"text-align: right;\">\n",
       "      <th></th>\n",
       "      <th>date</th>\n",
       "      <th>open</th>\n",
       "      <th>high</th>\n",
       "      <th>low</th>\n",
       "      <th>close</th>\n",
       "      <th>volume</th>\n",
       "      <th>Name</th>\n",
       "    </tr>\n",
       "  </thead>\n",
       "  <tbody>\n",
       "    <tr>\n",
       "      <th>0</th>\n",
       "      <td>2013-02-08</td>\n",
       "      <td>15.07</td>\n",
       "      <td>15.12</td>\n",
       "      <td>14.63</td>\n",
       "      <td>14.75</td>\n",
       "      <td>8407500</td>\n",
       "      <td>AAL</td>\n",
       "    </tr>\n",
       "    <tr>\n",
       "      <th>1</th>\n",
       "      <td>2013-02-11</td>\n",
       "      <td>14.89</td>\n",
       "      <td>15.01</td>\n",
       "      <td>14.26</td>\n",
       "      <td>14.46</td>\n",
       "      <td>8882000</td>\n",
       "      <td>AAL</td>\n",
       "    </tr>\n",
       "    <tr>\n",
       "      <th>2</th>\n",
       "      <td>2013-02-12</td>\n",
       "      <td>14.45</td>\n",
       "      <td>14.51</td>\n",
       "      <td>14.10</td>\n",
       "      <td>14.27</td>\n",
       "      <td>8126000</td>\n",
       "      <td>AAL</td>\n",
       "    </tr>\n",
       "    <tr>\n",
       "      <th>3</th>\n",
       "      <td>2013-02-13</td>\n",
       "      <td>14.30</td>\n",
       "      <td>14.94</td>\n",
       "      <td>14.25</td>\n",
       "      <td>14.66</td>\n",
       "      <td>10259500</td>\n",
       "      <td>AAL</td>\n",
       "    </tr>\n",
       "    <tr>\n",
       "      <th>4</th>\n",
       "      <td>2013-02-14</td>\n",
       "      <td>14.94</td>\n",
       "      <td>14.96</td>\n",
       "      <td>13.16</td>\n",
       "      <td>13.99</td>\n",
       "      <td>31879900</td>\n",
       "      <td>AAL</td>\n",
       "    </tr>\n",
       "  </tbody>\n",
       "</table>\n",
       "</div>"
      ],
      "text/plain": [
       "         date   open   high    low  close    volume Name\n",
       "0  2013-02-08  15.07  15.12  14.63  14.75   8407500  AAL\n",
       "1  2013-02-11  14.89  15.01  14.26  14.46   8882000  AAL\n",
       "2  2013-02-12  14.45  14.51  14.10  14.27   8126000  AAL\n",
       "3  2013-02-13  14.30  14.94  14.25  14.66  10259500  AAL\n",
       "4  2013-02-14  14.94  14.96  13.16  13.99  31879900  AAL"
      ]
     },
     "execution_count": 27,
     "metadata": {},
     "output_type": "execute_result"
    }
   ],
   "source": [
    "df.head(5)"
   ]
  },
  {
   "cell_type": "code",
   "execution_count": 28,
   "metadata": {
    "colab": {
     "base_uri": "https://localhost:8080/",
     "height": 153
    },
    "colab_type": "code",
    "executionInfo": {
     "elapsed": 1648,
     "status": "ok",
     "timestamp": 1554815041691,
     "user": {
      "displayName": "Bjorn Jee",
      "photoUrl": "",
      "userId": "01524592455651190370"
     },
     "user_tz": -480
    },
    "id": "7ooVZlkAyV7M",
    "outputId": "08a867cb-3912-4137-dda8-45beefc98188"
   },
   "outputs": [
    {
     "data": {
      "text/plain": [
       "date       0\n",
       "open      11\n",
       "high       8\n",
       "low        8\n",
       "close      0\n",
       "volume     0\n",
       "Name       0\n",
       "dtype: int64"
      ]
     },
     "execution_count": 28,
     "metadata": {},
     "output_type": "execute_result"
    }
   ],
   "source": [
    "df.isnull().sum()"
   ]
  },
  {
   "cell_type": "code",
   "execution_count": 29,
   "metadata": {
    "colab": {},
    "colab_type": "code",
    "id": "C1_D5y70yV7V"
   },
   "outputs": [],
   "source": [
    "open_mean = df[\"open\"].mean()\n",
    "high_mean = df[\"high\"].mean()\n",
    "low_mean = df[\"low\"].mean()"
   ]
  },
  {
   "cell_type": "code",
   "execution_count": 30,
   "metadata": {
    "colab": {},
    "colab_type": "code",
    "id": "U4VCSW8IyV7a"
   },
   "outputs": [],
   "source": [
    "df[\"open\"] = df[\"open\"].replace(np.NaN,open_mean)\n",
    "df[\"high\"] = df[\"high\"].replace(np.NaN,high_mean)\n",
    "df[\"low\"] = df[\"low\"].replace(np.NaN,low_mean)"
   ]
  },
  {
   "cell_type": "code",
   "execution_count": 31,
   "metadata": {
    "colab": {
     "base_uri": "https://localhost:8080/",
     "height": 153
    },
    "colab_type": "code",
    "executionInfo": {
     "elapsed": 962,
     "status": "ok",
     "timestamp": 1554815041697,
     "user": {
      "displayName": "Bjorn Jee",
      "photoUrl": "",
      "userId": "01524592455651190370"
     },
     "user_tz": -480
    },
    "id": "FZKRn3IuyV7g",
    "outputId": "0080af9e-080f-43ff-d2fd-acf66b27f56d"
   },
   "outputs": [
    {
     "data": {
      "text/plain": [
       "date      0\n",
       "open      0\n",
       "high      0\n",
       "low       0\n",
       "close     0\n",
       "volume    0\n",
       "Name      0\n",
       "dtype: int64"
      ]
     },
     "execution_count": 31,
     "metadata": {},
     "output_type": "execute_result"
    }
   ],
   "source": [
    "df.isnull().sum()"
   ]
  },
  {
   "cell_type": "code",
   "execution_count": 32,
   "metadata": {
    "colab": {
     "base_uri": "https://localhost:8080/",
     "height": 204
    },
    "colab_type": "code",
    "executionInfo": {
     "elapsed": 1455,
     "status": "ok",
     "timestamp": 1554815042314,
     "user": {
      "displayName": "Bjorn Jee",
      "photoUrl": "",
      "userId": "01524592455651190370"
     },
     "user_tz": -480
    },
    "id": "WbCJjzFZyV7n",
    "outputId": "fef80226-b850-466a-c7b4-996c99aeb0dd"
   },
   "outputs": [
    {
     "data": {
      "text/html": [
       "<div>\n",
       "<style scoped>\n",
       "    .dataframe tbody tr th:only-of-type {\n",
       "        vertical-align: middle;\n",
       "    }\n",
       "\n",
       "    .dataframe tbody tr th {\n",
       "        vertical-align: top;\n",
       "    }\n",
       "\n",
       "    .dataframe thead th {\n",
       "        text-align: right;\n",
       "    }\n",
       "</style>\n",
       "<table border=\"1\" class=\"dataframe\">\n",
       "  <thead>\n",
       "    <tr style=\"text-align: right;\">\n",
       "      <th></th>\n",
       "      <th>date</th>\n",
       "      <th>open</th>\n",
       "      <th>high</th>\n",
       "      <th>low</th>\n",
       "      <th>close</th>\n",
       "      <th>volume</th>\n",
       "      <th>Name</th>\n",
       "      <th>average</th>\n",
       "    </tr>\n",
       "  </thead>\n",
       "  <tbody>\n",
       "    <tr>\n",
       "      <th>0</th>\n",
       "      <td>2013-02-08</td>\n",
       "      <td>15.07</td>\n",
       "      <td>15.12</td>\n",
       "      <td>14.63</td>\n",
       "      <td>14.75</td>\n",
       "      <td>8407500</td>\n",
       "      <td>AAL</td>\n",
       "      <td>14.875</td>\n",
       "    </tr>\n",
       "    <tr>\n",
       "      <th>1</th>\n",
       "      <td>2013-02-11</td>\n",
       "      <td>14.89</td>\n",
       "      <td>15.01</td>\n",
       "      <td>14.26</td>\n",
       "      <td>14.46</td>\n",
       "      <td>8882000</td>\n",
       "      <td>AAL</td>\n",
       "      <td>14.635</td>\n",
       "    </tr>\n",
       "    <tr>\n",
       "      <th>2</th>\n",
       "      <td>2013-02-12</td>\n",
       "      <td>14.45</td>\n",
       "      <td>14.51</td>\n",
       "      <td>14.10</td>\n",
       "      <td>14.27</td>\n",
       "      <td>8126000</td>\n",
       "      <td>AAL</td>\n",
       "      <td>14.305</td>\n",
       "    </tr>\n",
       "    <tr>\n",
       "      <th>3</th>\n",
       "      <td>2013-02-13</td>\n",
       "      <td>14.30</td>\n",
       "      <td>14.94</td>\n",
       "      <td>14.25</td>\n",
       "      <td>14.66</td>\n",
       "      <td>10259500</td>\n",
       "      <td>AAL</td>\n",
       "      <td>14.595</td>\n",
       "    </tr>\n",
       "    <tr>\n",
       "      <th>4</th>\n",
       "      <td>2013-02-14</td>\n",
       "      <td>14.94</td>\n",
       "      <td>14.96</td>\n",
       "      <td>13.16</td>\n",
       "      <td>13.99</td>\n",
       "      <td>31879900</td>\n",
       "      <td>AAL</td>\n",
       "      <td>14.060</td>\n",
       "    </tr>\n",
       "  </tbody>\n",
       "</table>\n",
       "</div>"
      ],
      "text/plain": [
       "         date   open   high    low  close    volume Name  average\n",
       "0  2013-02-08  15.07  15.12  14.63  14.75   8407500  AAL   14.875\n",
       "1  2013-02-11  14.89  15.01  14.26  14.46   8882000  AAL   14.635\n",
       "2  2013-02-12  14.45  14.51  14.10  14.27   8126000  AAL   14.305\n",
       "3  2013-02-13  14.30  14.94  14.25  14.66  10259500  AAL   14.595\n",
       "4  2013-02-14  14.94  14.96  13.16  13.99  31879900  AAL   14.060"
      ]
     },
     "execution_count": 32,
     "metadata": {},
     "output_type": "execute_result"
    }
   ],
   "source": [
    "df['average'] = (df['high']+ df['low'])/2\n",
    "df.head()"
   ]
  },
  {
   "cell_type": "code",
   "execution_count": 33,
   "metadata": {
    "colab": {
     "base_uri": "https://localhost:8080/",
     "height": 204
    },
    "colab_type": "code",
    "executionInfo": {
     "elapsed": 1283,
     "status": "ok",
     "timestamp": 1554815042316,
     "user": {
      "displayName": "Bjorn Jee",
      "photoUrl": "",
      "userId": "01524592455651190370"
     },
     "user_tz": -480
    },
    "id": "KYVIwS-nyV7s",
    "outputId": "1ebe38f0-07d2-4ae3-b734-89ddb421a045"
   },
   "outputs": [
    {
     "data": {
      "text/html": [
       "<div>\n",
       "<style scoped>\n",
       "    .dataframe tbody tr th:only-of-type {\n",
       "        vertical-align: middle;\n",
       "    }\n",
       "\n",
       "    .dataframe tbody tr th {\n",
       "        vertical-align: top;\n",
       "    }\n",
       "\n",
       "    .dataframe thead th {\n",
       "        text-align: right;\n",
       "    }\n",
       "</style>\n",
       "<table border=\"1\" class=\"dataframe\">\n",
       "  <thead>\n",
       "    <tr style=\"text-align: right;\">\n",
       "      <th></th>\n",
       "      <th>date</th>\n",
       "      <th>open</th>\n",
       "      <th>high</th>\n",
       "      <th>low</th>\n",
       "      <th>close</th>\n",
       "      <th>volume</th>\n",
       "      <th>Name</th>\n",
       "      <th>average</th>\n",
       "    </tr>\n",
       "  </thead>\n",
       "  <tbody>\n",
       "    <tr>\n",
       "      <th>0</th>\n",
       "      <td>2013-02-08</td>\n",
       "      <td>261.40</td>\n",
       "      <td>265.25</td>\n",
       "      <td>260.555</td>\n",
       "      <td>261.95</td>\n",
       "      <td>3879078</td>\n",
       "      <td>AMZN</td>\n",
       "      <td>262.9025</td>\n",
       "    </tr>\n",
       "    <tr>\n",
       "      <th>1</th>\n",
       "      <td>2013-02-11</td>\n",
       "      <td>263.20</td>\n",
       "      <td>263.25</td>\n",
       "      <td>256.600</td>\n",
       "      <td>257.21</td>\n",
       "      <td>3403403</td>\n",
       "      <td>AMZN</td>\n",
       "      <td>259.9250</td>\n",
       "    </tr>\n",
       "    <tr>\n",
       "      <th>2</th>\n",
       "      <td>2013-02-12</td>\n",
       "      <td>259.19</td>\n",
       "      <td>260.16</td>\n",
       "      <td>257.000</td>\n",
       "      <td>258.70</td>\n",
       "      <td>2938660</td>\n",
       "      <td>AMZN</td>\n",
       "      <td>258.5800</td>\n",
       "    </tr>\n",
       "    <tr>\n",
       "      <th>3</th>\n",
       "      <td>2013-02-13</td>\n",
       "      <td>261.53</td>\n",
       "      <td>269.96</td>\n",
       "      <td>260.300</td>\n",
       "      <td>269.47</td>\n",
       "      <td>5292996</td>\n",
       "      <td>AMZN</td>\n",
       "      <td>265.1300</td>\n",
       "    </tr>\n",
       "    <tr>\n",
       "      <th>4</th>\n",
       "      <td>2013-02-14</td>\n",
       "      <td>267.37</td>\n",
       "      <td>270.65</td>\n",
       "      <td>265.400</td>\n",
       "      <td>269.24</td>\n",
       "      <td>3462780</td>\n",
       "      <td>AMZN</td>\n",
       "      <td>268.0250</td>\n",
       "    </tr>\n",
       "  </tbody>\n",
       "</table>\n",
       "</div>"
      ],
      "text/plain": [
       "         date    open    high      low   close   volume  Name   average\n",
       "0  2013-02-08  261.40  265.25  260.555  261.95  3879078  AMZN  262.9025\n",
       "1  2013-02-11  263.20  263.25  256.600  257.21  3403403  AMZN  259.9250\n",
       "2  2013-02-12  259.19  260.16  257.000  258.70  2938660  AMZN  258.5800\n",
       "3  2013-02-13  261.53  269.96  260.300  269.47  5292996  AMZN  265.1300\n",
       "4  2013-02-14  267.37  270.65  265.400  269.24  3462780  AMZN  268.0250"
      ]
     },
     "execution_count": 33,
     "metadata": {},
     "output_type": "execute_result"
    }
   ],
   "source": [
    "df_amzn = df.query('Name == \"AMZN\"')\n",
    "df_amzn = df_amzn.reset_index()\n",
    "df_amzn = df_amzn.drop(columns ='index')\n",
    "df_amzn.head()"
   ]
  },
  {
   "cell_type": "code",
   "execution_count": 34,
   "metadata": {
    "colab": {
     "base_uri": "https://localhost:8080/",
     "height": 34
    },
    "colab_type": "code",
    "executionInfo": {
     "elapsed": 930,
     "status": "ok",
     "timestamp": 1554815042317,
     "user": {
      "displayName": "Bjorn Jee",
      "photoUrl": "",
      "userId": "01524592455651190370"
     },
     "user_tz": -480
    },
    "id": "O8SpY7cFyV72",
    "outputId": "b9ad8a2a-2920-4a0a-9d8b-7f8691426223"
   },
   "outputs": [
    {
     "data": {
      "text/plain": [
       "str"
      ]
     },
     "execution_count": 34,
     "metadata": {},
     "output_type": "execute_result"
    }
   ],
   "source": [
    "type(df_amzn['date'].values[0])"
   ]
  },
  {
   "cell_type": "code",
   "execution_count": 35,
   "metadata": {
    "colab": {},
    "colab_type": "code",
    "id": "AA3_ReZKyV79"
   },
   "outputs": [],
   "source": [
    "df_amzn['date'] = pd.to_datetime(df['date'])"
   ]
  },
  {
   "cell_type": "code",
   "execution_count": 36,
   "metadata": {
    "colab": {
     "base_uri": "https://localhost:8080/",
     "height": 34
    },
    "colab_type": "code",
    "executionInfo": {
     "elapsed": 895,
     "status": "ok",
     "timestamp": 1554815043412,
     "user": {
      "displayName": "Bjorn Jee",
      "photoUrl": "",
      "userId": "01524592455651190370"
     },
     "user_tz": -480
    },
    "id": "ff4lsRB6yV8I",
    "outputId": "793ea24b-25f6-4681-ab94-6b2ae10839c8"
   },
   "outputs": [
    {
     "data": {
      "text/plain": [
       "numpy.datetime64"
      ]
     },
     "execution_count": 36,
     "metadata": {},
     "output_type": "execute_result"
    }
   ],
   "source": [
    "type(df_amzn['date'].values[0])"
   ]
  },
  {
   "cell_type": "markdown",
   "metadata": {
    "colab_type": "text",
    "id": "sn3oHbXeza2I"
   },
   "source": [
    "### Exploratory Data Analysis"
   ]
  },
  {
   "cell_type": "code",
   "execution_count": 37,
   "metadata": {
    "colab": {
     "base_uri": "https://localhost:8080/",
     "height": 286
    },
    "colab_type": "code",
    "executionInfo": {
     "elapsed": 1315,
     "status": "ok",
     "timestamp": 1554815050537,
     "user": {
      "displayName": "Bjorn Jee",
      "photoUrl": "",
      "userId": "01524592455651190370"
     },
     "user_tz": -480
    },
    "id": "KcuiFtC36et8",
    "outputId": "f2d76bd9-0c07-4707-cf78-79dd4dd34252"
   },
   "outputs": [
    {
     "data": {
      "text/plain": [
       "<matplotlib.axes._subplots.AxesSubplot at 0x1c28f0b390>"
      ]
     },
     "execution_count": 37,
     "metadata": {},
     "output_type": "execute_result"
    },
    {
     "data": {
      "image/png": "[encoded data removed]",
      "text/plain": [
       "<Figure size 432x288 with 2 Axes>"
      ]
     },
     "metadata": {},
     "output_type": "display_data"
    }
   ],
   "source": [
    "corr = df_amzn.corr(method=\"pearson\")\n",
    "sns.heatmap(corr, xticklabels=corr.columns,yticklabels=corr.columns)"
   ]
  },
  {
   "cell_type": "code",
   "execution_count": 53,
   "metadata": {
    "colab": {
     "base_uri": "https://localhost:8080/",
     "height": 583
    },
    "colab_type": "code",
    "executionInfo": {
     "elapsed": 4959,
     "status": "ok",
     "timestamp": 1554815054381,
     "user": {
      "displayName": "Bjorn Jee",
      "photoUrl": "",
      "userId": "01524592455651190370"
     },
     "user_tz": -480
    },
    "id": "TP4pIdRyyV8b",
    "outputId": "dfe6c24a-def1-4a5c-efe8-b6a0f6c9fef8"
   },
   "outputs": [
    {
     "name": "stdout",
     "output_type": "stream",
     "text": [
      "High five! You successfully sent some data to your account on plotly. View your plot in your browser at https://plot.ly/~bjornjee/0 or inside your plot.ly account where it is named 'simple_candlestick'\n"
     ]
    },
    {
     "data": {
      "text/html": [
       "<iframe id=\"igraph\" scrolling=\"no\" style=\"border:none;\" seamless=\"seamless\" src=\"https://plot.ly/~bjornjee/0.embed\" height=\"525px\" width=\"100%\"></iframe>"
      ],
      "text/plain": [
       "<plotly.tools.PlotlyDisplay object>"
      ]
     },
     "execution_count": 53,
     "metadata": {},
     "output_type": "execute_result"
    }
   ],
   "source": [
    "import plotly.plotly as py\n",
    "import plotly.graph_objs as go\n",
    "py.sign_in('bjornjee','N0K61OHf6DhdYkzr5F1U')\n",
    "\n",
    "trace = go.Ohlc(x=df_amzn['date'],\n",
    "                open=df_amzn['open'],\n",
    "                high=df_amzn['high'],\n",
    "                low=df_amzn['low'],\n",
    "                close=df_amzn['close'])\n",
    "data = [trace]\n",
    "py.iplot(data, filename='simple_candlestick')"
   ]
  },
  {
   "cell_type": "code",
   "execution_count": 39,
   "metadata": {
    "colab": {
     "base_uri": "https://localhost:8080/",
     "height": 369
    },
    "colab_type": "code",
    "executionInfo": {
     "elapsed": 5528,
     "status": "ok",
     "timestamp": 1554815055145,
     "user": {
      "displayName": "Bjorn Jee",
      "photoUrl": "",
      "userId": "01524592455651190370"
     },
     "user_tz": -480
    },
    "id": "XY3QswMdyV8u",
    "outputId": "89839329-dd51-4f6f-fd02-b968887a1778"
   },
   "outputs": [
    {
     "name": "stderr",
     "output_type": "stream",
     "text": [
      "/Users/bjornjee/anaconda3/lib/python3.6/site-packages/scipy/stats/stats.py:1713: FutureWarning:\n",
      "\n",
      "Using a non-tuple sequence for multidimensional indexing is deprecated; use `arr[tuple(seq)]` instead of `arr[seq]`. In the future this will be interpreted as an array index, `arr[np.array(seq)]`, which will result either in an error or a different result.\n",
      "\n"
     ]
    },
    {
     "data": {
      "image/png": "[encoded data removed]",
      "text/plain": [
       "<Figure size 720x360 with 2 Axes>"
      ]
     },
     "metadata": {},
     "output_type": "display_data"
    }
   ],
   "source": [
    "from matplotlib import pyplot as plt\n",
    "fig, ax = plt.subplots(1,2,figsize=(10,5))\n",
    "sns.distplot(df_amzn['average'],ax=ax[0])\n",
    "sns.distplot(df_amzn['volume'],ax=ax[1])\n",
    "plt.tight_layout()"
   ]
  },
  {
   "cell_type": "code",
   "execution_count": 40,
   "metadata": {
    "colab": {
     "base_uri": "https://localhost:8080/",
     "height": 349
    },
    "colab_type": "code",
    "executionInfo": {
     "elapsed": 5292,
     "status": "ok",
     "timestamp": 1554815055147,
     "user": {
      "displayName": "Bjorn Jee",
      "photoUrl": "",
      "userId": "01524592455651190370"
     },
     "user_tz": -480
    },
    "id": "iZeTOO82yV9B",
    "outputId": "1f35ea99-b29d-44ee-c940-6e7ef28cb571"
   },
   "outputs": [
    {
     "name": "stderr",
     "output_type": "stream",
     "text": [
      "/Users/bjornjee/anaconda3/lib/python3.6/site-packages/sklearn/utils/validation.py:475: DataConversionWarning:\n",
      "\n",
      "Data with input dtype int64 was converted to float64 by MinMaxScaler.\n",
      "\n"
     ]
    },
    {
     "data": {
      "image/png": "[encoded data removed]",
      "text/plain": [
       "<Figure size 432x288 with 1 Axes>"
      ]
     },
     "metadata": {},
     "output_type": "display_data"
    }
   ],
   "source": [
    "from sklearn.preprocessing import MinMaxScaler\n",
    "scaler=MinMaxScaler(feature_range=(0,1))\n",
    "\n",
    "ave_norm = scaler.fit_transform(df_amzn['average'].values.reshape(-1,1)).reshape(-1)\n",
    "vol_norm = scaler.fit_transform((df_amzn['volume'].values.reshape(-1,1))).reshape(-1)\n",
    "\n",
    "x = np.arange(len(ave_norm))\n",
    "y = df_amzn['date']\n",
    "\n",
    "plt.plot(x[700:900],ave_norm[700:900],'b', label='average')\n",
    "plt.plot(x[700:900], vol_norm[700:900],'r',label='volume')\n",
    "plt.legend(loc='upper left')\n",
    "plt.title('Volume vs Average')\n",
    "None"
   ]
  },
  {
   "cell_type": "markdown",
   "metadata": {
    "colab_type": "text",
    "id": "JyVRqZKYz2p7"
   },
   "source": [
    "### Data preprocessing for ARIMA model"
   ]
  },
  {
   "cell_type": "markdown",
   "metadata": {
    "colab_type": "text",
    "id": "bxnEGekXyV9S"
   },
   "source": [
    "This code is a class for Stationarity Test, in particular, we used Augmented-Dickey Fuller Test, which uses AIC to test for Stationarity."
   ]
  },
  {
   "cell_type": "code",
   "execution_count": 41,
   "metadata": {
    "colab": {},
    "colab_type": "code",
    "id": "Lp_idFggyV9Z"
   },
   "outputs": [],
   "source": [
    "import statsmodels\n",
    "from statsmodels.tsa.stattools import adfuller\n",
    "class StationarityTests:\n",
    "    def __init__(self,significance=.05):\n",
    "        self.SignificanceLevel = significance\n",
    "        self.pValue = None\n",
    "        self.isStationary = None\n",
    "        \n",
    "    def ADF_StationarityTest(self,timeseries,printResults = True):\n",
    "        adfTest = adfuller(timeseries, autolag = 'AIC')\n",
    "        self.pValue = adfTest[1]\n",
    "        \n",
    "        if (self.pValue<self.SignificanceLevel):\n",
    "            self.isStationary = True\n",
    "        else:\n",
    "            self.isStationary = False\n",
    "        if printResults:\n",
    "            dfResults = pd.Series(adfTest[0:4], index=['ADF Test Statistic','P-Value','#Lags Used','#Observations Used'])\n",
    "            for key,value in adfTest[4].items():\n",
    "                dfResults['Critical Value (%s)'%key] = value\n",
    "            print('Augmented Dickey-Fuller Test Result')\n",
    "            print(dfResults)\n",
    "            print('isStationary: (%s)' %self.isStationary)"
   ]
  },
  {
   "cell_type": "code",
   "execution_count": 42,
   "metadata": {
    "colab": {
     "base_uri": "https://localhost:8080/",
     "height": 187
    },
    "colab_type": "code",
    "executionInfo": {
     "elapsed": 1516,
     "status": "ok",
     "timestamp": 1554815055817,
     "user": {
      "displayName": "Bjorn Jee",
      "photoUrl": "",
      "userId": "01524592455651190370"
     },
     "user_tz": -480
    },
    "id": "tNGa7Q5PyV9x",
    "outputId": "f5be0f95-3cc9-4d72-dc29-fac2f4e3f669"
   },
   "outputs": [
    {
     "name": "stdout",
     "output_type": "stream",
     "text": [
      "Augmented Dickey-Fuller Test Result\n",
      "ADF Test Statistic         2.769535\n",
      "P-Value                    1.000000\n",
      "#Lags Used                 3.000000\n",
      "#Observations Used      1255.000000\n",
      "Critical Value (1%)       -3.435571\n",
      "Critical Value (5%)       -2.863846\n",
      "Critical Value (10%)      -2.567998\n",
      "dtype: float64\n",
      "isStationary: (False)\n"
     ]
    }
   ],
   "source": [
    "sTest = StationarityTests()\n",
    "sTest.ADF_StationarityTest(df_amzn[\"average\"])"
   ]
  },
  {
   "cell_type": "markdown",
   "metadata": {
    "colab_type": "text",
    "id": "UGhTZ_WNyV96"
   },
   "source": [
    "We observed that the dataset for Amazon's 'average' prices are not stationary and transformed the data by using differencing, and tidying it up by dropping all NaN values."
   ]
  },
  {
   "cell_type": "code",
   "execution_count": 43,
   "metadata": {
    "colab": {
     "base_uri": "https://localhost:8080/",
     "height": 204
    },
    "colab_type": "code",
    "executionInfo": {
     "elapsed": 1297,
     "status": "ok",
     "timestamp": 1554815058643,
     "user": {
      "displayName": "Bjorn Jee",
      "photoUrl": "",
      "userId": "01524592455651190370"
     },
     "user_tz": -480
    },
    "id": "w-u-CkIcyV-E",
    "outputId": "4be316be-6f29-4565-d311-b573590068a5"
   },
   "outputs": [
    {
     "data": {
      "text/html": [
       "<div>\n",
       "<style scoped>\n",
       "    .dataframe tbody tr th:only-of-type {\n",
       "        vertical-align: middle;\n",
       "    }\n",
       "\n",
       "    .dataframe tbody tr th {\n",
       "        vertical-align: top;\n",
       "    }\n",
       "\n",
       "    .dataframe thead th {\n",
       "        text-align: right;\n",
       "    }\n",
       "</style>\n",
       "<table border=\"1\" class=\"dataframe\">\n",
       "  <thead>\n",
       "    <tr style=\"text-align: right;\">\n",
       "      <th></th>\n",
       "      <th>date</th>\n",
       "      <th>open</th>\n",
       "      <th>high</th>\n",
       "      <th>low</th>\n",
       "      <th>close</th>\n",
       "      <th>volume</th>\n",
       "      <th>Name</th>\n",
       "      <th>average</th>\n",
       "    </tr>\n",
       "  </thead>\n",
       "  <tbody>\n",
       "    <tr>\n",
       "      <th>1</th>\n",
       "      <td>2013-02-11</td>\n",
       "      <td>263.20</td>\n",
       "      <td>263.25</td>\n",
       "      <td>256.60</td>\n",
       "      <td>257.21</td>\n",
       "      <td>3403403</td>\n",
       "      <td>AMZN</td>\n",
       "      <td>2.9775</td>\n",
       "    </tr>\n",
       "    <tr>\n",
       "      <th>2</th>\n",
       "      <td>2013-02-12</td>\n",
       "      <td>259.19</td>\n",
       "      <td>260.16</td>\n",
       "      <td>257.00</td>\n",
       "      <td>258.70</td>\n",
       "      <td>2938660</td>\n",
       "      <td>AMZN</td>\n",
       "      <td>1.3450</td>\n",
       "    </tr>\n",
       "    <tr>\n",
       "      <th>3</th>\n",
       "      <td>2013-02-13</td>\n",
       "      <td>261.53</td>\n",
       "      <td>269.96</td>\n",
       "      <td>260.30</td>\n",
       "      <td>269.47</td>\n",
       "      <td>5292996</td>\n",
       "      <td>AMZN</td>\n",
       "      <td>-6.5500</td>\n",
       "    </tr>\n",
       "    <tr>\n",
       "      <th>4</th>\n",
       "      <td>2013-02-14</td>\n",
       "      <td>267.37</td>\n",
       "      <td>270.65</td>\n",
       "      <td>265.40</td>\n",
       "      <td>269.24</td>\n",
       "      <td>3462780</td>\n",
       "      <td>AMZN</td>\n",
       "      <td>-2.8950</td>\n",
       "    </tr>\n",
       "    <tr>\n",
       "      <th>5</th>\n",
       "      <td>2013-02-15</td>\n",
       "      <td>267.63</td>\n",
       "      <td>268.92</td>\n",
       "      <td>263.11</td>\n",
       "      <td>265.09</td>\n",
       "      <td>3979832</td>\n",
       "      <td>AMZN</td>\n",
       "      <td>2.0100</td>\n",
       "    </tr>\n",
       "  </tbody>\n",
       "</table>\n",
       "</div>"
      ],
      "text/plain": [
       "        date    open    high     low   close   volume  Name  average\n",
       "1 2013-02-11  263.20  263.25  256.60  257.21  3403403  AMZN   2.9775\n",
       "2 2013-02-12  259.19  260.16  257.00  258.70  2938660  AMZN   1.3450\n",
       "3 2013-02-13  261.53  269.96  260.30  269.47  5292996  AMZN  -6.5500\n",
       "4 2013-02-14  267.37  270.65  265.40  269.24  3462780  AMZN  -2.8950\n",
       "5 2013-02-15  267.63  268.92  263.11  265.09  3979832  AMZN   2.0100"
      ]
     },
     "execution_count": 43,
     "metadata": {},
     "output_type": "execute_result"
    }
   ],
   "source": [
    "df_amzn[\"average\"] = df_amzn[\"average\"].shift(1) - df_amzn[\"average\"]\n",
    "df_amzn.replace([\"NaT\",\"NaN\"],np.nan,inplace=True)\n",
    "df_amzn = df_amzn.dropna()\n",
    "df_amzn.isnull().sum()\n",
    "df_amzn.head()"
   ]
  },
  {
   "cell_type": "code",
   "execution_count": 44,
   "metadata": {
    "colab": {
     "base_uri": "https://localhost:8080/",
     "height": 187
    },
    "colab_type": "code",
    "executionInfo": {
     "elapsed": 960,
     "status": "ok",
     "timestamp": 1554815059760,
     "user": {
      "displayName": "Bjorn Jee",
      "photoUrl": "",
      "userId": "01524592455651190370"
     },
     "user_tz": -480
    },
    "id": "y1nmvItTyV-Q",
    "outputId": "9d7e788f-5deb-4071-9e98-d9d719637a81"
   },
   "outputs": [
    {
     "name": "stdout",
     "output_type": "stream",
     "text": [
      "Augmented Dickey-Fuller Test Result\n",
      "ADF Test Statistic       -20.709402\n",
      "P-Value                    0.000000\n",
      "#Lags Used                 2.000000\n",
      "#Observations Used      1255.000000\n",
      "Critical Value (1%)       -3.435571\n",
      "Critical Value (5%)       -2.863846\n",
      "Critical Value (10%)      -2.567998\n",
      "dtype: float64\n",
      "isStationary: (True)\n"
     ]
    }
   ],
   "source": [
    "sTest = StationarityTests()\n",
    "sTest.ADF_StationarityTest(df_amzn[\"average\"])"
   ]
  },
  {
   "cell_type": "code",
   "execution_count": 45,
   "metadata": {
    "colab": {
     "base_uri": "https://localhost:8080/",
     "height": 301
    },
    "colab_type": "code",
    "executionInfo": {
     "elapsed": 1472,
     "status": "ok",
     "timestamp": 1554815061798,
     "user": {
      "displayName": "Bjorn Jee",
      "photoUrl": "",
      "userId": "01524592455651190370"
     },
     "user_tz": -480
    },
    "id": "SevlUK0DyV-i",
    "outputId": "db396cf3-e862-4c22-b925-337e577b6208"
   },
   "outputs": [
    {
     "data": {
      "text/plain": [
       "<matplotlib.axes._subplots.AxesSubplot at 0x1c1dc802e8>"
      ]
     },
     "execution_count": 45,
     "metadata": {},
     "output_type": "execute_result"
    },
    {
     "data": {
      "image/png": "[encoded data removed]",
      "text/plain": [
       "<Figure size 432x288 with 1 Axes>"
      ]
     },
     "metadata": {},
     "output_type": "display_data"
    }
   ],
   "source": [
    "df_amzn.columns.values\n",
    "df_amzn.head()\n",
    "sns.lineplot(x='date',y='average',data = df_amzn)"
   ]
  },
  {
   "cell_type": "markdown",
   "metadata": {
    "colab_type": "text",
    "id": "X8TtceapyV-x"
   },
   "source": [
    "### Feature Selection for Lag Variables"
   ]
  },
  {
   "cell_type": "markdown",
   "metadata": {
    "colab_type": "text",
    "id": "8Nay8yT5yV-y"
   },
   "source": [
    "Now that the data is stationary (mean and variance are almost constant), we will check for the auto correlation for ti, tj, i!=j."
   ]
  },
  {
   "cell_type": "code",
   "execution_count": 46,
   "metadata": {
    "colab": {
     "base_uri": "https://localhost:8080/",
     "height": 349
    },
    "colab_type": "code",
    "executionInfo": {
     "elapsed": 1238,
     "status": "ok",
     "timestamp": 1554815065529,
     "user": {
      "displayName": "Bjorn Jee",
      "photoUrl": "",
      "userId": "01524592455651190370"
     },
     "user_tz": -480
    },
    "id": "aDqKMpjwyV-9",
    "outputId": "787ab69d-21ff-4db3-983b-6180023887f0"
   },
   "outputs": [
    {
     "name": "stderr",
     "output_type": "stream",
     "text": [
      "/Users/bjornjee/anaconda3/lib/python3.6/site-packages/statsmodels/regression/linear_model.py:1283: RuntimeWarning:\n",
      "\n",
      "invalid value encountered in sqrt\n",
      "\n"
     ]
    },
    {
     "data": {
      "image/png": "[encoded data removed]",
      "text/plain": [
       "<Figure size 432x288 with 2 Axes>"
      ]
     },
     "metadata": {},
     "output_type": "display_data"
    }
   ],
   "source": [
    "from pandas import Series\n",
    "from statsmodels.graphics.tsaplots import plot_acf\n",
    "from statsmodels.graphics.tsaplots import plot_pacf\n",
    "from matplotlib import pyplot\n",
    "pyplot.figure()\n",
    "pyplot.subplot(211)\n",
    "plot_acf(df_amzn[\"average\"][:10], ax=pyplot.gca())\n",
    "pyplot.subplot(212)\n",
    "plot_pacf(df_amzn[\"average\"][:10], ax=pyplot.gca())\n",
    "pyplot.show()"
   ]
  },
  {
   "cell_type": "code",
   "execution_count": 47,
   "metadata": {
    "colab": {
     "base_uri": "https://localhost:8080/",
     "height": 51
    },
    "colab_type": "code",
    "executionInfo": {
     "elapsed": 21192,
     "status": "ok",
     "timestamp": 1554815088169,
     "user": {
      "displayName": "Bjorn Jee",
      "photoUrl": "",
      "userId": "01524592455651190370"
     },
     "user_tz": -480
    },
    "id": "5j77k6t2a-Xa",
    "outputId": "7123b449-730a-40ff-9cc2-c92fdd2cf4b1"
   },
   "outputs": [
    {
     "name": "stdout",
     "output_type": "stream",
     "text": [
      "ARIMA(0, 1, 0) RMSE=19.837\n",
      "Best ARIMA(0, 1, 0) RMSE=19.837\n"
     ]
    }
   ],
   "source": [
    "import warnings\n",
    "from sklearn.metrics import mean_squared_error\n",
    "from math import sqrt\n",
    "from statsmodels.tsa.arima_model import ARIMA\n",
    "# evaluate combinations of p, d and q values for an ARIMA model\n",
    "def evaluate_models(dataset, p_values, d_values, q_values):\n",
    "  dataset = dataset.astype('float32')\n",
    "  best_score, best_cfg = np.inf, None\n",
    "  n = len(dataset)\n",
    "  for p in p_values:\n",
    "    for d in d_values:\n",
    "      for q in q_values:\n",
    "        if p==0 and d==0 and q==0:\n",
    "          continue\n",
    "        order = (p,d,q)\n",
    "        try:\n",
    "          model = ARIMA(dataset, order)\n",
    "          model_fit = model.fit(disp=0)\n",
    "          y_pred = model_fit.predict(n-50,n-1)\n",
    "          y_true = dataset[n-50:]\n",
    "          rmse = sqrt(mean_squared_error(y_true,y_pred))\n",
    "          if rmse < best_score:\n",
    "            best_score, best_cfg = rmse, order\n",
    "            print('ARIMA%s RMSE=%.3f' % (order,rmse))\n",
    "        except:\n",
    "          continue\n",
    "  print('Best ARIMA%s RMSE=%.3f' % (best_cfg, best_score))\n",
    "\n",
    "# evaluate parameters\n",
    "p_values = range(0, 5)\n",
    "d_values = range(1, 3)\n",
    "q_values = range(0, 5)\n",
    "warnings.filterwarnings(\"ignore\")\n",
    "evaluate_models(df_amzn['average'].values, p_values, d_values, q_values)"
   ]
  },
  {
   "cell_type": "code",
   "execution_count": 48,
   "metadata": {
    "colab": {
     "base_uri": "https://localhost:8080/",
     "height": 294
    },
    "colab_type": "code",
    "executionInfo": {
     "elapsed": 1297,
     "status": "ok",
     "timestamp": 1554815090321,
     "user": {
      "displayName": "Bjorn Jee",
      "photoUrl": "",
      "userId": "01524592455651190370"
     },
     "user_tz": -480
    },
    "id": "zjToz2zzsPwZ",
    "outputId": "b3a73ac2-7d3e-4cb3-fbb5-b4cddc4e99f5"
   },
   "outputs": [
    {
     "data": {
      "image/png": "[encoded data removed]",
      "text/plain": [
       "<Figure size 432x288 with 1 Axes>"
      ]
     },
     "metadata": {},
     "output_type": "display_data"
    }
   ],
   "source": [
    "model = ARIMA(df_amzn['average'],(0,1,0))\n",
    "model_fit = model.fit(disp=0)\n",
    "n = df_amzn['average'].size\n",
    "fig = model_fit.plot_predict(n-50)\n",
    "fig.suptitle('ARIMA MODEL (0,1,0)')\n",
    "None"
   ]
  },
  {
   "cell_type": "code",
   "execution_count": 49,
   "metadata": {
    "colab": {
     "base_uri": "https://localhost:8080/",
     "height": 1037
    },
    "colab_type": "code",
    "executionInfo": {
     "elapsed": 1375,
     "status": "ok",
     "timestamp": 1554815092669,
     "user": {
      "displayName": "Bjorn Jee",
      "photoUrl": "",
      "userId": "01524592455651190370"
     },
     "user_tz": -480
    },
    "id": "t34cxztwyV_t",
    "outputId": "9e766485-92c4-4d70-a195-46099169c688"
   },
   "outputs": [
    {
     "name": "stdout",
     "output_type": "stream",
     "text": [
      "                             ARIMA Model Results                              \n",
      "==============================================================================\n",
      "Dep. Variable:              D.average   No. Observations:                 1257\n",
      "Model:                 ARIMA(0, 1, 0)   Log Likelihood               -4946.347\n",
      "Method:                           css   S.D. of innovations             12.380\n",
      "Date:                Wed, 10 Apr 2019   AIC                           9896.694\n",
      "Time:                        13:39:23   BIC                           9906.967\n",
      "Sample:                             1   HQIC                          9900.555\n",
      "                                                                              \n",
      "==============================================================================\n",
      "                 coef    std err          z      P>|z|      [0.025      0.975]\n",
      "------------------------------------------------------------------------------\n",
      "const         -0.0343      0.349     -0.098      0.922      -0.719       0.650\n",
      "==============================================================================\n",
      "\n",
      "\n",
      "                             ARIMA Model Results                              \n",
      "==============================================================================\n",
      "Dep. Variable:              D.average   No. Observations:                 1257\n",
      "Model:                 ARIMA(0, 1, 1)   Log Likelihood               -4591.406\n",
      "Method:                       css-mle   S.D. of innovations              9.308\n",
      "Date:                Wed, 10 Apr 2019   AIC                           9188.811\n",
      "Time:                        13:39:23   BIC                           9204.221\n",
      "Sample:                             1   HQIC                          9194.602\n",
      "                                                                              \n",
      "===================================================================================\n",
      "                      coef    std err          z      P>|z|      [0.025      0.975]\n",
      "-----------------------------------------------------------------------------------\n",
      "const              -0.0021      0.001     -2.876      0.004      -0.003      -0.001\n",
      "ma.L1.D.average    -1.0000      0.003   -336.408      0.000      -1.006      -0.994\n",
      "                                    Roots                                    \n",
      "=============================================================================\n",
      "                  Real          Imaginary           Modulus         Frequency\n",
      "-----------------------------------------------------------------------------\n",
      "MA.1            1.0000           +0.0000j            1.0000            0.0000\n",
      "-----------------------------------------------------------------------------\n",
      "\n",
      "\n",
      "                             ARIMA Model Results                              \n",
      "==============================================================================\n",
      "Dep. Variable:              D.average   No. Observations:                 1257\n",
      "Model:                 ARIMA(1, 1, 0)   Log Likelihood               -4812.694\n",
      "Method:                       css-mle   S.D. of innovations             11.131\n",
      "Date:                Wed, 10 Apr 2019   AIC                           9631.387\n",
      "Time:                        13:39:23   BIC                           9646.797\n",
      "Sample:                             1   HQIC                          9637.179\n",
      "                                                                              \n",
      "===================================================================================\n",
      "                      coef    std err          z      P>|z|      [0.025      0.975]\n",
      "-----------------------------------------------------------------------------------\n",
      "const              -0.0262      0.218     -0.120      0.905      -0.454       0.402\n",
      "ar.L1.D.average    -0.4387      0.025    -17.263      0.000      -0.488      -0.389\n",
      "                                    Roots                                    \n",
      "=============================================================================\n",
      "                  Real          Imaginary           Modulus         Frequency\n",
      "-----------------------------------------------------------------------------\n",
      "AR.1           -2.2796           +0.0000j            2.2796            0.5000\n",
      "-----------------------------------------------------------------------------\n",
      "\n",
      "\n",
      "                             ARIMA Model Results                              \n",
      "==============================================================================\n",
      "Dep. Variable:              D.average   No. Observations:                 1257\n",
      "Model:                 ARIMA(1, 1, 1)   Log Likelihood               -4583.702\n",
      "Method:                       css-mle   S.D. of innovations              9.252\n",
      "Date:                Wed, 10 Apr 2019   AIC                           9175.404\n",
      "Time:                        13:39:23   BIC                           9195.949\n",
      "Sample:                             1   HQIC                          9183.125\n",
      "                                                                              \n",
      "===================================================================================\n",
      "                      coef    std err          z      P>|z|      [0.025      0.975]\n",
      "-----------------------------------------------------------------------------------\n",
      "const              -0.0021      0.001     -2.597      0.010      -0.004      -0.001\n",
      "ar.L1.D.average     0.1111      0.028      3.937      0.000       0.056       0.166\n",
      "ma.L1.D.average    -1.0000      0.003   -374.179      0.000      -1.005      -0.995\n",
      "                                    Roots                                    \n",
      "=============================================================================\n",
      "                  Real          Imaginary           Modulus         Frequency\n",
      "-----------------------------------------------------------------------------\n",
      "AR.1            8.9991           +0.0000j            8.9991            0.0000\n",
      "MA.1            1.0000           +0.0000j            1.0000            0.0000\n",
      "-----------------------------------------------------------------------------\n"
     ]
    }
   ],
   "source": [
    "model1 =ARIMA(df_amzn[\"average\"], order=(1,1,0))\n",
    "model2 =ARIMA(df_amzn[\"average\"],order=(1,1,1))\n",
    "model3 = ARIMA(df_amzn[\"average\"],order=(0,1,1))\n",
    "model1_fit = model1.fit(disp=0)\n",
    "model2_fit = model2.fit(disp=0)\n",
    "model3_fit = model3.fit(disp=0)\n",
    "\n",
    "print(model_fit.summary())\n",
    "print()\n",
    "print()\n",
    "print(model3_fit.summary())\n",
    "print()\n",
    "print()\n",
    "print(model1_fit.summary())\n",
    "print()\n",
    "print()\n",
    "print(model2_fit.summary())"
   ]
  },
  {
   "cell_type": "markdown",
   "metadata": {
    "colab_type": "text",
    "id": "B1Z_wDoxyV_3"
   },
   "source": [
    "Plotting the predicted values vs true values for the last 50 days of the dataset"
   ]
  },
  {
   "cell_type": "code",
   "execution_count": 50,
   "metadata": {
    "colab": {
     "base_uri": "https://localhost:8080/",
     "height": 848
    },
    "colab_type": "code",
    "executionInfo": {
     "elapsed": 2516,
     "status": "ok",
     "timestamp": 1554815094172,
     "user": {
      "displayName": "Bjorn Jee",
      "photoUrl": "",
      "userId": "01524592455651190370"
     },
     "user_tz": -480
    },
    "id": "P9Sq3tEnyV_5",
    "outputId": "614c2ea4-9f2f-47bf-a6a8-f43f9401b2a8"
   },
   "outputs": [
    {
     "data": {
      "image/png": "[encoded data removed]",
      "text/plain": [
       "<Figure size 432x288 with 1 Axes>"
      ]
     },
     "metadata": {},
     "output_type": "display_data"
    },
    {
     "data": {
      "image/png": "[encoded data removed]",
      "text/plain": [
       "<Figure size 432x288 with 1 Axes>"
      ]
     },
     "metadata": {},
     "output_type": "display_data"
    },
    {
     "data": {
      "image/png": "[encoded data removed]",
      "text/plain": [
       "<Figure size 432x288 with 1 Axes>"
      ]
     },
     "metadata": {},
     "output_type": "display_data"
    },
    {
     "data": {
      "image/png": "[encoded data removed]",
      "text/plain": [
       "<Figure size 432x288 with 1 Axes>"
      ]
     },
     "metadata": {},
     "output_type": "display_data"
    }
   ],
   "source": [
    "n = df_amzn['average'].size\n",
    "a = model_fit.plot_predict(n-50)\n",
    "a.suptitle('ARIMA MODEL (0,1,0)')\n",
    "d = model3_fit.plot_predict(n-50)\n",
    "d.suptitle('ARIMA MODEL (0,1,1)')\n",
    "b = model1_fit.plot_predict(n-50)\n",
    "b.suptitle('ARIMA MODEL (1,1,0)')\n",
    "c = model2_fit.plot_predict(n-50)\n",
    "c.suptitle('ARIMA MODEL (1,1,1)')\n",
    "None"
   ]
  },
  {
   "cell_type": "markdown",
   "metadata": {
    "colab_type": "text",
    "id": "Swe6WX8o0Ls9"
   },
   "source": [
    "###Evaluation of our ARIMA models"
   ]
  },
  {
   "cell_type": "code",
   "execution_count": 51,
   "metadata": {
    "colab": {
     "base_uri": "https://localhost:8080/",
     "height": 142
    },
    "colab_type": "code",
    "executionInfo": {
     "elapsed": 2235,
     "status": "ok",
     "timestamp": 1554815094175,
     "user": {
      "displayName": "Bjorn Jee",
      "photoUrl": "",
      "userId": "01524592455651190370"
     },
     "user_tz": -480
    },
    "id": "2zuUtzQUyWAa",
    "outputId": "e177555c-b4a7-4666-a20b-6a41d7465d31"
   },
   "outputs": [
    {
     "data": {
      "text/html": [
       "<div>\n",
       "<style scoped>\n",
       "    .dataframe tbody tr th:only-of-type {\n",
       "        vertical-align: middle;\n",
       "    }\n",
       "\n",
       "    .dataframe tbody tr th {\n",
       "        vertical-align: top;\n",
       "    }\n",
       "\n",
       "    .dataframe thead th {\n",
       "        text-align: right;\n",
       "    }\n",
       "</style>\n",
       "<table border=\"1\" class=\"dataframe\">\n",
       "  <thead>\n",
       "    <tr style=\"text-align: right;\">\n",
       "      <th></th>\n",
       "      <th>Model</th>\n",
       "      <th>R2 Score</th>\n",
       "      <th>Mean Squared Error</th>\n",
       "    </tr>\n",
       "  </thead>\n",
       "  <tbody>\n",
       "    <tr>\n",
       "      <th>0</th>\n",
       "      <td>(0,1,0)</td>\n",
       "      <td>-0.075370</td>\n",
       "      <td>393.509181</td>\n",
       "    </tr>\n",
       "    <tr>\n",
       "      <th>1</th>\n",
       "      <td>(0,1,1)</td>\n",
       "      <td>-0.813881</td>\n",
       "      <td>663.751945</td>\n",
       "    </tr>\n",
       "    <tr>\n",
       "      <th>2</th>\n",
       "      <td>(1,1,0)</td>\n",
       "      <td>-0.253245</td>\n",
       "      <td>458.598813</td>\n",
       "    </tr>\n",
       "    <tr>\n",
       "      <th>3</th>\n",
       "      <td>(1,1,1)</td>\n",
       "      <td>-0.635375</td>\n",
       "      <td>598.431359</td>\n",
       "    </tr>\n",
       "  </tbody>\n",
       "</table>\n",
       "</div>"
      ],
      "text/plain": [
       "     Model  R2 Score  Mean Squared Error\n",
       "0  (0,1,0) -0.075370          393.509181\n",
       "1  (0,1,1) -0.813881          663.751945\n",
       "2  (1,1,0) -0.253245          458.598813\n",
       "3  (1,1,1) -0.635375          598.431359"
      ]
     },
     "execution_count": 51,
     "metadata": {},
     "output_type": "execute_result"
    }
   ],
   "source": [
    "from sklearn.metrics import r2_score\n",
    "models = [model_fit,model3_fit,model1_fit,model2_fit]\n",
    "model_name = ['(0,1,0)','(0,1,1)','(1,1,0)','(1,1,1)']\n",
    "y_true = df_amzn['average'][n-50:]\n",
    "r = []\n",
    "m = []\n",
    "for model in models:\n",
    "  y_pred = model.predict(n-50)\n",
    "  r.append(r2_score(y_true,y_pred))\n",
    "  m.append(mean_squared_error(y_true,y_pred))\n",
    "d = {'Model':model_name,'R2 Score':r,'Mean Squared Error':m}\n",
    "results = pd.DataFrame(data = d)\n",
    "results[['Model','R2 Score','Mean Squared Error']]"
   ]
  },
  {
   "cell_type": "markdown",
   "metadata": {
    "colab_type": "text",
    "id": "gkOyLu7i6ZZs"
   },
   "source": [
    "### Data Preprocessing for LSTM"
   ]
  },
  {
   "cell_type": "code",
   "execution_count": null,
   "metadata": {
    "colab": {},
    "colab_type": "code",
    "id": "s_5cUgDZyWAq"
   },
   "outputs": [],
   "source": [
    "from tensorflow.keras.models import Sequential\n",
    "from tensorflow.keras.layers import Dense\n",
    "from tensorflow.keras.layers import LSTM\n",
    "from sklearn.preprocessing import MinMaxScaler\n",
    "from sklearn.metrics import mean_squared_error"
   ]
  },
  {
   "cell_type": "code",
   "execution_count": 29,
   "metadata": {
    "colab": {
     "base_uri": "https://localhost:8080/",
     "height": 204
    },
    "colab_type": "code",
    "executionInfo": {
     "elapsed": 1748,
     "status": "ok",
     "timestamp": 1554815094715,
     "user": {
      "displayName": "Bjorn Jee",
      "photoUrl": "",
      "userId": "01524592455651190370"
     },
     "user_tz": -480
    },
    "id": "LlMRoysGyWBA",
    "outputId": "81bf8a5f-1aee-4646-e93e-176e0247628d"
   },
   "outputs": [
    {
     "data": {
      "text/html": [
       "<div>\n",
       "<style scoped>\n",
       "    .dataframe tbody tr th:only-of-type {\n",
       "        vertical-align: middle;\n",
       "    }\n",
       "\n",
       "    .dataframe tbody tr th {\n",
       "        vertical-align: top;\n",
       "    }\n",
       "\n",
       "    .dataframe thead th {\n",
       "        text-align: right;\n",
       "    }\n",
       "</style>\n",
       "<table border=\"1\" class=\"dataframe\">\n",
       "  <thead>\n",
       "    <tr style=\"text-align: right;\">\n",
       "      <th></th>\n",
       "      <th>date</th>\n",
       "      <th>open</th>\n",
       "      <th>high</th>\n",
       "      <th>low</th>\n",
       "      <th>close</th>\n",
       "      <th>volume</th>\n",
       "      <th>Name</th>\n",
       "      <th>average</th>\n",
       "    </tr>\n",
       "  </thead>\n",
       "  <tbody>\n",
       "    <tr>\n",
       "      <th>0</th>\n",
       "      <td>2013-02-08</td>\n",
       "      <td>261.40</td>\n",
       "      <td>265.25</td>\n",
       "      <td>260.555</td>\n",
       "      <td>261.95</td>\n",
       "      <td>3879078</td>\n",
       "      <td>AMZN</td>\n",
       "      <td>262.9025</td>\n",
       "    </tr>\n",
       "    <tr>\n",
       "      <th>1</th>\n",
       "      <td>2013-02-11</td>\n",
       "      <td>263.20</td>\n",
       "      <td>263.25</td>\n",
       "      <td>256.600</td>\n",
       "      <td>257.21</td>\n",
       "      <td>3403403</td>\n",
       "      <td>AMZN</td>\n",
       "      <td>259.9250</td>\n",
       "    </tr>\n",
       "    <tr>\n",
       "      <th>2</th>\n",
       "      <td>2013-02-12</td>\n",
       "      <td>259.19</td>\n",
       "      <td>260.16</td>\n",
       "      <td>257.000</td>\n",
       "      <td>258.70</td>\n",
       "      <td>2938660</td>\n",
       "      <td>AMZN</td>\n",
       "      <td>258.5800</td>\n",
       "    </tr>\n",
       "    <tr>\n",
       "      <th>3</th>\n",
       "      <td>2013-02-13</td>\n",
       "      <td>261.53</td>\n",
       "      <td>269.96</td>\n",
       "      <td>260.300</td>\n",
       "      <td>269.47</td>\n",
       "      <td>5292996</td>\n",
       "      <td>AMZN</td>\n",
       "      <td>265.1300</td>\n",
       "    </tr>\n",
       "    <tr>\n",
       "      <th>4</th>\n",
       "      <td>2013-02-14</td>\n",
       "      <td>267.37</td>\n",
       "      <td>270.65</td>\n",
       "      <td>265.400</td>\n",
       "      <td>269.24</td>\n",
       "      <td>3462780</td>\n",
       "      <td>AMZN</td>\n",
       "      <td>268.0250</td>\n",
       "    </tr>\n",
       "  </tbody>\n",
       "</table>\n",
       "</div>"
      ],
      "text/plain": [
       "        date    open    high      low   close   volume  Name   average\n",
       "0 2013-02-08  261.40  265.25  260.555  261.95  3879078  AMZN  262.9025\n",
       "1 2013-02-11  263.20  263.25  256.600  257.21  3403403  AMZN  259.9250\n",
       "2 2013-02-12  259.19  260.16  257.000  258.70  2938660  AMZN  258.5800\n",
       "3 2013-02-13  261.53  269.96  260.300  269.47  5292996  AMZN  265.1300\n",
       "4 2013-02-14  267.37  270.65  265.400  269.24  3462780  AMZN  268.0250"
      ]
     },
     "execution_count": 29,
     "metadata": {
      "tags": []
     },
     "output_type": "execute_result"
    }
   ],
   "source": [
    "dataset = df.query('Name == \"AMZN\"')\n",
    "dataset = dataset.reset_index()\n",
    "dataset = dataset.drop(columns='index')\n",
    "dataset['date'] = pd.to_datetime(dataset['date'])\n",
    "dataset.head()"
   ]
  },
  {
   "cell_type": "markdown",
   "metadata": {
    "colab_type": "text",
    "id": "AC4uL0Y_yWBK"
   },
   "source": [
    "We will use the volume of the stock from the past 50 days to predict the average price of the Amazon stock"
   ]
  },
  {
   "cell_type": "code",
   "execution_count": 30,
   "metadata": {
    "colab": {
     "base_uri": "https://localhost:8080/",
     "height": 102
    },
    "colab_type": "code",
    "executionInfo": {
     "elapsed": 1148,
     "status": "ok",
     "timestamp": 1554815094716,
     "user": {
      "displayName": "Bjorn Jee",
      "photoUrl": "",
      "userId": "01524592455651190370"
     },
     "user_tz": -480
    },
    "id": "wJkC0idNyWBL",
    "outputId": "57058e13-c46c-416c-d9eb-1eebed2be5cb"
   },
   "outputs": [
    {
     "data": {
      "text/plain": [
       "array([[3879078, 262.90250000000003, Timestamp('2013-02-08 00:00:00')],\n",
       "       [3403403, 259.925, Timestamp('2013-02-11 00:00:00')],\n",
       "       [2938660, 258.58000000000004, Timestamp('2013-02-12 00:00:00')],\n",
       "       [5292996, 265.13, Timestamp('2013-02-13 00:00:00')],\n",
       "       [3462780, 268.025, Timestamp('2013-02-14 00:00:00')]], dtype=object)"
      ]
     },
     "execution_count": 30,
     "metadata": {
      "tags": []
     },
     "output_type": "execute_result"
    }
   ],
   "source": [
    "input_feature = dataset.iloc[:,[5,7,0]].values\n",
    "input_data = input_feature\n",
    "input_data[:5]"
   ]
  },
  {
   "cell_type": "code",
   "execution_count": 31,
   "metadata": {
    "colab": {
     "base_uri": "https://localhost:8080/",
     "height": 295
    },
    "colab_type": "code",
    "executionInfo": {
     "elapsed": 1526,
     "status": "ok",
     "timestamp": 1554815095329,
     "user": {
      "displayName": "Bjorn Jee",
      "photoUrl": "",
      "userId": "01524592455651190370"
     },
     "user_tz": -480
    },
    "id": "LyIhfa-lyWBU",
    "outputId": "6685f5c4-a7c6-4166-ddcf-3dfaae326332"
   },
   "outputs": [
    {
     "data": {
      "image/png": "[encoded data removed]",
      "text/plain": [
       "<Figure size 432x288 with 1 Axes>"
      ]
     },
     "metadata": {
      "tags": []
     },
     "output_type": "display_data"
    }
   ],
   "source": [
    "plt.plot(input_feature[:,2],input_feature[:,0])\n",
    "plt.title(\"Volume of stocks sold\")\n",
    "plt.xlabel(\"Time (latest-> oldest)\")\n",
    "plt.ylabel(\"Volume of stocks traded\")\n",
    "plt.show()"
   ]
  },
  {
   "cell_type": "code",
   "execution_count": 32,
   "metadata": {
    "colab": {
     "base_uri": "https://localhost:8080/",
     "height": 295
    },
    "colab_type": "code",
    "executionInfo": {
     "elapsed": 2077,
     "status": "ok",
     "timestamp": 1554815096019,
     "user": {
      "displayName": "Bjorn Jee",
      "photoUrl": "",
      "userId": "01524592455651190370"
     },
     "user_tz": -480
    },
    "id": "gUzUyk4fyWBq",
    "outputId": "3e794df8-312a-4eb1-ee6e-be4d5484de73"
   },
   "outputs": [
    {
     "data": {
      "image/png": "[encoded data removed]",
      "text/plain": [
       "<Figure size 432x288 with 1 Axes>"
      ]
     },
     "metadata": {
      "tags": []
     },
     "output_type": "display_data"
    }
   ],
   "source": [
    "plt.plot(input_feature[:,2],input_feature[:,1], color='blue')\n",
    "plt.title(\"Amazon 'Average' Stock Prices\")\n",
    "plt.xlabel(\"Time (latest-> oldest)\")\n",
    "plt.ylabel(\"Stock Average Price\")\n",
    "plt.show()"
   ]
  },
  {
   "cell_type": "markdown",
   "metadata": {
    "colab_type": "text",
    "id": "4fT80GUeyWCQ"
   },
   "source": [
    "Normalizing the data as inputs for the LSTM model."
   ]
  },
  {
   "cell_type": "code",
   "execution_count": 33,
   "metadata": {
    "colab": {
     "base_uri": "https://localhost:8080/",
     "height": 102
    },
    "colab_type": "code",
    "executionInfo": {
     "elapsed": 1386,
     "status": "ok",
     "timestamp": 1554815096020,
     "user": {
      "displayName": "Bjorn Jee",
      "photoUrl": "",
      "userId": "01524592455651190370"
     },
     "user_tz": -480
    },
    "id": "uay1SunQyWCR",
    "outputId": "ed34dbef-038b-4c8a-f1f2-0aefced7528b"
   },
   "outputs": [
    {
     "data": {
      "text/plain": [
       "array([[0.1223958610188687, 0.011178220313460496],\n",
       "       [0.10149909348862568, 0.008721445928272897],\n",
       "       [0.08108257710179068, 0.0076116687500773494],\n",
       "       [0.1845103630482505, 0.013016159840918168],\n",
       "       [0.10410757063298526, 0.015404862391755425]], dtype=object)"
      ]
     },
     "execution_count": 33,
     "metadata": {
      "tags": []
     },
     "output_type": "execute_result"
    }
   ],
   "source": [
    "scaler_ave = MinMaxScaler(feature_range=(0,1))\n",
    "scaler_vol = MinMaxScaler(feature_range=(0,1))\n",
    "\n",
    "#print(scaler_vol.fit_transform(input_feature[:,0].reshape(-1,1)).shape)\n",
    "input_data[:,0] = scaler_vol.fit_transform(input_feature[:,0].reshape(-1,1))[:,0]\n",
    "input_data[:,1] = scaler_ave.fit_transform(input_feature[:,1].reshape(-1,1))[:,0]\n",
    "input_data[:5,0:2]"
   ]
  },
  {
   "cell_type": "markdown",
   "metadata": {
    "colab_type": "text",
    "id": "QDtfNkJByWCX"
   },
   "source": [
    "The X array will store the volume and price of a sliding window of 50 days, while the y array will store the target value of the opening price for the 51st day for each sample in the X array."
   ]
  },
  {
   "cell_type": "code",
   "execution_count": null,
   "metadata": {
    "colab": {},
    "colab_type": "code",
    "id": "kzl2nch1yWCY"
   },
   "outputs": [],
   "source": [
    "lookback = 50\n",
    "X=[]\n",
    "y=[]\n",
    "for i in range(len(dataset['open'])-lookback-1):\n",
    "    t=input_data[i:i+lookback,0:2]\n",
    "    X.append(t)\n",
    "    y.append(input_data[i+ lookback,1])"
   ]
  },
  {
   "cell_type": "markdown",
   "metadata": {
    "colab_type": "text",
    "id": "WoyBTxtPyWCc"
   },
   "source": [
    "Creation of the train and test datasets. We need to reshape the train data into LSTM expected structure of (samples,timestamp,features)"
   ]
  },
  {
   "cell_type": "code",
   "execution_count": 35,
   "metadata": {
    "colab": {
     "base_uri": "https://localhost:8080/",
     "height": 51
    },
    "colab_type": "code",
    "executionInfo": {
     "elapsed": 1138,
     "status": "ok",
     "timestamp": 1554815131435,
     "user": {
      "displayName": "Bjorn Jee",
      "photoUrl": "",
      "userId": "01524592455651190370"
     },
     "user_tz": -480
    },
    "id": "G4Y52V0CyWCd",
    "outputId": "eae8ae5f-44d9-45f0-cacc-77c0661904e6"
   },
   "outputs": [
    {
     "name": "stdout",
     "output_type": "stream",
     "text": [
      "(845, 50, 2)\n",
      "(312, 50, 2)\n"
     ]
    }
   ],
   "source": [
    "train_size=int(.7 * len(X))\n",
    "X, y= np.array(X), np.array(y)\n",
    "X_train = X[:train_size]\n",
    "Y_train = y[:train_size]\n",
    "X_test = X[train_size+lookback+1:]\n",
    "Y_test = y[train_size+lookback+1:]\n",
    "X_train = X_train.reshape(X_train.shape[0],lookback, 2)\n",
    "X_test = X_test.reshape(X_test.shape[0],lookback, 2)\n",
    "print(X_train.shape)\n",
    "print(X_test.shape)"
   ]
  },
  {
   "cell_type": "markdown",
   "metadata": {
    "colab_type": "text",
    "id": "8xjcX9X66lbt"
   },
   "source": [
    "### Training LSTM model"
   ]
  },
  {
   "cell_type": "code",
   "execution_count": 36,
   "metadata": {
    "colab": {
     "base_uri": "https://localhost:8080/",
     "height": 272
    },
    "colab_type": "code",
    "executionInfo": {
     "elapsed": 2035,
     "status": "ok",
     "timestamp": 1554815135421,
     "user": {
      "displayName": "Bjorn Jee",
      "photoUrl": "",
      "userId": "01524592455651190370"
     },
     "user_tz": -480
    },
    "id": "TtQEGZXuyWCr",
    "outputId": "6ce0fa4a-f73f-4018-8042-dbd28a3c2dc4"
   },
   "outputs": [
    {
     "name": "stdout",
     "output_type": "stream",
     "text": [
      "_________________________________________________________________\n",
      "Layer (type)                 Output Shape              Param #   \n",
      "=================================================================\n",
      "lstm (LSTM)                  (None, 50, 30)            3960      \n",
      "_________________________________________________________________\n",
      "lstm_1 (LSTM)                (None, 50, 30)            7320      \n",
      "_________________________________________________________________\n",
      "lstm_2 (LSTM)                (None, 30)                7320      \n",
      "_________________________________________________________________\n",
      "dense (Dense)                (None, 1)                 31        \n",
      "=================================================================\n",
      "Total params: 18,631\n",
      "Trainable params: 18,631\n",
      "Non-trainable params: 0\n",
      "_________________________________________________________________\n"
     ]
    }
   ],
   "source": [
    "model = Sequential()\n",
    "model.add(LSTM(units=30, return_sequences= True, input_shape=(X.shape[1],2)))\n",
    "model.add(LSTM(units=30, return_sequences=True))\n",
    "model.add(LSTM(units=30))\n",
    "model.add(Dense(units=1))\n",
    "model.summary()"
   ]
  },
  {
   "cell_type": "code",
   "execution_count": null,
   "metadata": {
    "colab": {},
    "colab_type": "code",
    "id": "-zo7i8oayWC5"
   },
   "outputs": [],
   "source": [
    "model.compile(optimizer='adam', loss='mean_squared_error')"
   ]
  },
  {
   "cell_type": "markdown",
   "metadata": {
    "colab_type": "text",
    "id": "Lfy9UpWbQIIL"
   },
   "source": [
    "We train with 200 epochs, and a batch size of 32 which are commonly used values for LSTM models"
   ]
  },
  {
   "cell_type": "code",
   "execution_count": 38,
   "metadata": {
    "colab": {
     "base_uri": "https://localhost:8080/",
     "height": 6834
    },
    "colab_type": "code",
    "executionInfo": {
     "elapsed": 573465,
     "status": "ok",
     "timestamp": 1554815712254,
     "user": {
      "displayName": "Bjorn Jee",
      "photoUrl": "",
      "userId": "01524592455651190370"
     },
     "user_tz": -480
    },
    "id": "gr-yDd1ryWC7",
    "outputId": "546a273f-23a0-4724-8aca-cab87559910a"
   },
   "outputs": [
    {
     "name": "stdout",
     "output_type": "stream",
     "text": [
      "Epoch 1/200\n",
      "845/845 [==============================] - 4s 5ms/step - loss: 0.0122\n",
      "Epoch 2/200\n",
      "845/845 [==============================] - 3s 3ms/step - loss: 8.8873e-04\n",
      "Epoch 3/200\n",
      "845/845 [==============================] - 3s 3ms/step - loss: 4.8463e-04\n",
      "Epoch 4/200\n",
      "845/845 [==============================] - 3s 3ms/step - loss: 4.2143e-04\n",
      "Epoch 5/200\n",
      "845/845 [==============================] - 3s 3ms/step - loss: 3.9664e-04\n",
      "Epoch 6/200\n",
      "845/845 [==============================] - 3s 3ms/step - loss: 3.8034e-04\n",
      "Epoch 7/200\n",
      "845/845 [==============================] - 3s 3ms/step - loss: 3.7639e-04\n",
      "Epoch 8/200\n",
      "845/845 [==============================] - 3s 3ms/step - loss: 3.5435e-04\n",
      "Epoch 9/200\n",
      "845/845 [==============================] - 3s 3ms/step - loss: 3.3090e-04\n",
      "Epoch 10/200\n",
      "845/845 [==============================] - 3s 3ms/step - loss: 3.1292e-04\n",
      "Epoch 11/200\n",
      "845/845 [==============================] - 3s 4ms/step - loss: 3.0877e-04\n",
      "Epoch 12/200\n",
      "845/845 [==============================] - 3s 3ms/step - loss: 2.8905e-04\n",
      "Epoch 13/200\n",
      "845/845 [==============================] - 3s 3ms/step - loss: 2.7262e-04\n",
      "Epoch 14/200\n",
      "845/845 [==============================] - 3s 3ms/step - loss: 2.7754e-04\n",
      "Epoch 15/200\n",
      "845/845 [==============================] - 3s 3ms/step - loss: 2.6885e-04\n",
      "Epoch 16/200\n",
      "845/845 [==============================] - 3s 3ms/step - loss: 2.5755e-04\n",
      "Epoch 17/200\n",
      "845/845 [==============================] - 3s 3ms/step - loss: 2.7708e-04\n",
      "Epoch 18/200\n",
      "845/845 [==============================] - 3s 3ms/step - loss: 2.5956e-04\n",
      "Epoch 19/200\n",
      "845/845 [==============================] - 3s 3ms/step - loss: 2.3552e-04\n",
      "Epoch 20/200\n",
      "845/845 [==============================] - 3s 3ms/step - loss: 2.2865e-04\n",
      "Epoch 21/200\n",
      "845/845 [==============================] - 3s 3ms/step - loss: 2.2637e-04\n",
      "Epoch 22/200\n",
      "845/845 [==============================] - 3s 3ms/step - loss: 2.2651e-04\n",
      "Epoch 23/200\n",
      "845/845 [==============================] - 3s 3ms/step - loss: 2.2774e-04\n",
      "Epoch 24/200\n",
      "845/845 [==============================] - 3s 3ms/step - loss: 2.1768e-04\n",
      "Epoch 25/200\n",
      "845/845 [==============================] - 3s 3ms/step - loss: 2.1866e-04\n",
      "Epoch 26/200\n",
      "845/845 [==============================] - 3s 3ms/step - loss: 2.7625e-04\n",
      "Epoch 27/200\n",
      "845/845 [==============================] - 3s 3ms/step - loss: 2.1408e-04\n",
      "Epoch 28/200\n",
      "845/845 [==============================] - 3s 3ms/step - loss: 1.9320e-04\n",
      "Epoch 29/200\n",
      "845/845 [==============================] - 3s 3ms/step - loss: 2.0556e-04\n",
      "Epoch 30/200\n",
      "845/845 [==============================] - 3s 3ms/step - loss: 2.0318e-04\n",
      "Epoch 31/200\n",
      "845/845 [==============================] - 3s 3ms/step - loss: 1.8244e-04\n",
      "Epoch 32/200\n",
      "845/845 [==============================] - 3s 3ms/step - loss: 1.7495e-04\n",
      "Epoch 33/200\n",
      "845/845 [==============================] - 3s 3ms/step - loss: 1.8743e-04\n",
      "Epoch 34/200\n",
      "845/845 [==============================] - 3s 3ms/step - loss: 1.7681e-04\n",
      "Epoch 35/200\n",
      "845/845 [==============================] - 3s 3ms/step - loss: 1.7900e-04\n",
      "Epoch 36/200\n",
      "845/845 [==============================] - 3s 3ms/step - loss: 1.7561e-04\n",
      "Epoch 37/200\n",
      "845/845 [==============================] - 3s 3ms/step - loss: 1.8638e-04\n",
      "Epoch 38/200\n",
      "845/845 [==============================] - 3s 4ms/step - loss: 1.5470e-04\n",
      "Epoch 39/200\n",
      "845/845 [==============================] - 3s 3ms/step - loss: 1.6154e-04\n",
      "Epoch 40/200\n",
      "845/845 [==============================] - 3s 3ms/step - loss: 1.5430e-04\n",
      "Epoch 41/200\n",
      "845/845 [==============================] - 3s 3ms/step - loss: 1.4965e-04\n",
      "Epoch 42/200\n",
      "845/845 [==============================] - 3s 3ms/step - loss: 1.4607e-04\n",
      "Epoch 43/200\n",
      "845/845 [==============================] - 3s 3ms/step - loss: 1.6093e-04\n",
      "Epoch 44/200\n",
      "845/845 [==============================] - 3s 3ms/step - loss: 1.5480e-04\n",
      "Epoch 45/200\n",
      "845/845 [==============================] - 3s 3ms/step - loss: 1.4280e-04\n",
      "Epoch 46/200\n",
      "845/845 [==============================] - 3s 3ms/step - loss: 1.4386e-04\n",
      "Epoch 47/200\n",
      "845/845 [==============================] - 3s 3ms/step - loss: 1.3263e-04\n",
      "Epoch 48/200\n",
      "845/845 [==============================] - 3s 3ms/step - loss: 1.3617e-04\n",
      "Epoch 49/200\n",
      "845/845 [==============================] - 3s 3ms/step - loss: 1.2912e-04\n",
      "Epoch 50/200\n",
      "845/845 [==============================] - 3s 3ms/step - loss: 1.3623e-04\n",
      "Epoch 51/200\n",
      "845/845 [==============================] - 3s 3ms/step - loss: 1.4953e-04\n",
      "Epoch 52/200\n",
      "845/845 [==============================] - 3s 3ms/step - loss: 1.3892e-04\n",
      "Epoch 53/200\n",
      "845/845 [==============================] - 3s 3ms/step - loss: 1.2365e-04\n",
      "Epoch 54/200\n",
      "845/845 [==============================] - 3s 3ms/step - loss: 1.1804e-04\n",
      "Epoch 55/200\n",
      "845/845 [==============================] - 3s 3ms/step - loss: 1.1834e-04\n",
      "Epoch 56/200\n",
      "845/845 [==============================] - 3s 3ms/step - loss: 1.1671e-04\n",
      "Epoch 57/200\n",
      "845/845 [==============================] - 3s 3ms/step - loss: 1.1772e-04\n",
      "Epoch 58/200\n",
      "845/845 [==============================] - 3s 3ms/step - loss: 1.1317e-04\n",
      "Epoch 59/200\n",
      "845/845 [==============================] - 3s 3ms/step - loss: 1.3449e-04\n",
      "Epoch 60/200\n",
      "845/845 [==============================] - 3s 3ms/step - loss: 1.2469e-04\n",
      "Epoch 61/200\n",
      "845/845 [==============================] - 3s 3ms/step - loss: 1.1609e-04\n",
      "Epoch 62/200\n",
      "845/845 [==============================] - 3s 3ms/step - loss: 1.0306e-04\n",
      "Epoch 63/200\n",
      "845/845 [==============================] - 3s 3ms/step - loss: 1.1163e-04\n",
      "Epoch 64/200\n",
      "845/845 [==============================] - 3s 3ms/step - loss: 1.1342e-04\n",
      "Epoch 65/200\n",
      "845/845 [==============================] - 3s 3ms/step - loss: 1.1058e-04\n",
      "Epoch 66/200\n",
      "845/845 [==============================] - 3s 3ms/step - loss: 1.0833e-04\n",
      "Epoch 67/200\n",
      "845/845 [==============================] - 3s 3ms/step - loss: 1.2045e-04\n",
      "Epoch 68/200\n",
      "845/845 [==============================] - 3s 3ms/step - loss: 1.0731e-04\n",
      "Epoch 69/200\n",
      "845/845 [==============================] - 3s 3ms/step - loss: 1.0658e-04\n",
      "Epoch 70/200\n",
      "845/845 [==============================] - 3s 3ms/step - loss: 9.9023e-05\n",
      "Epoch 71/200\n",
      "845/845 [==============================] - 3s 3ms/step - loss: 9.7616e-05\n",
      "Epoch 72/200\n",
      "845/845 [==============================] - 3s 3ms/step - loss: 9.8659e-05\n",
      "Epoch 73/200\n",
      "845/845 [==============================] - 3s 3ms/step - loss: 1.5415e-04\n",
      "Epoch 74/200\n",
      "845/845 [==============================] - 3s 3ms/step - loss: 9.5248e-05\n",
      "Epoch 75/200\n",
      "845/845 [==============================] - 3s 3ms/step - loss: 9.1762e-05\n",
      "Epoch 76/200\n",
      "845/845 [==============================] - 3s 3ms/step - loss: 9.5101e-05\n",
      "Epoch 77/200\n",
      "845/845 [==============================] - 3s 3ms/step - loss: 9.9288e-05\n",
      "Epoch 78/200\n",
      "845/845 [==============================] - 3s 3ms/step - loss: 1.0269e-04\n",
      "Epoch 79/200\n",
      "845/845 [==============================] - 3s 3ms/step - loss: 8.8722e-05\n",
      "Epoch 80/200\n",
      "845/845 [==============================] - 3s 3ms/step - loss: 8.6640e-05\n",
      "Epoch 81/200\n",
      "845/845 [==============================] - 3s 3ms/step - loss: 8.2524e-05\n",
      "Epoch 82/200\n",
      "845/845 [==============================] - 3s 3ms/step - loss: 8.0731e-05\n",
      "Epoch 83/200\n",
      "845/845 [==============================] - 3s 3ms/step - loss: 8.0311e-05\n",
      "Epoch 84/200\n",
      "845/845 [==============================] - 3s 3ms/step - loss: 8.3490e-05\n",
      "Epoch 85/200\n",
      "845/845 [==============================] - 3s 3ms/step - loss: 8.5020e-05\n",
      "Epoch 86/200\n",
      "845/845 [==============================] - 3s 3ms/step - loss: 8.5611e-05\n",
      "Epoch 87/200\n",
      "845/845 [==============================] - 3s 3ms/step - loss: 7.6885e-05\n",
      "Epoch 88/200\n",
      "845/845 [==============================] - 3s 3ms/step - loss: 8.7141e-05\n",
      "Epoch 89/200\n",
      "845/845 [==============================] - 3s 3ms/step - loss: 8.2991e-05\n",
      "Epoch 90/200\n",
      "845/845 [==============================] - 3s 3ms/step - loss: 7.4815e-05\n",
      "Epoch 91/200\n",
      "845/845 [==============================] - 3s 3ms/step - loss: 9.7097e-05\n",
      "Epoch 92/200\n",
      "845/845 [==============================] - 3s 3ms/step - loss: 8.9789e-05\n",
      "Epoch 93/200\n",
      "845/845 [==============================] - 3s 4ms/step - loss: 8.1528e-05\n",
      "Epoch 94/200\n",
      "845/845 [==============================] - 3s 3ms/step - loss: 7.3843e-05\n",
      "Epoch 95/200\n",
      "845/845 [==============================] - 3s 3ms/step - loss: 7.1758e-05\n",
      "Epoch 96/200\n",
      "845/845 [==============================] - 3s 3ms/step - loss: 7.5804e-05\n",
      "Epoch 97/200\n",
      "845/845 [==============================] - 3s 3ms/step - loss: 6.9871e-05\n",
      "Epoch 98/200\n",
      "845/845 [==============================] - 3s 3ms/step - loss: 8.7597e-05\n",
      "Epoch 99/200\n",
      "845/845 [==============================] - 3s 3ms/step - loss: 7.5010e-05\n",
      "Epoch 100/200\n",
      "845/845 [==============================] - 3s 3ms/step - loss: 6.5443e-05\n",
      "Epoch 101/200\n",
      "845/845 [==============================] - 3s 3ms/step - loss: 6.9920e-05\n",
      "Epoch 102/200\n",
      "845/845 [==============================] - 3s 3ms/step - loss: 8.9691e-05\n",
      "Epoch 103/200\n",
      "845/845 [==============================] - 3s 3ms/step - loss: 7.0555e-05\n",
      "Epoch 104/200\n",
      "845/845 [==============================] - 3s 3ms/step - loss: 6.3003e-05\n",
      "Epoch 105/200\n",
      "845/845 [==============================] - 3s 3ms/step - loss: 6.2493e-05\n",
      "Epoch 106/200\n",
      "845/845 [==============================] - 3s 3ms/step - loss: 6.4096e-05\n",
      "Epoch 107/200\n",
      "845/845 [==============================] - 3s 3ms/step - loss: 6.2429e-05\n",
      "Epoch 108/200\n",
      "845/845 [==============================] - 3s 3ms/step - loss: 6.3786e-05\n",
      "Epoch 109/200\n",
      "845/845 [==============================] - 3s 3ms/step - loss: 5.5358e-05\n",
      "Epoch 110/200\n",
      "845/845 [==============================] - 3s 3ms/step - loss: 6.4851e-05\n",
      "Epoch 111/200\n",
      "845/845 [==============================] - 3s 3ms/step - loss: 5.5275e-05\n",
      "Epoch 112/200\n",
      "845/845 [==============================] - 3s 3ms/step - loss: 5.6239e-05\n",
      "Epoch 113/200\n",
      "845/845 [==============================] - 3s 3ms/step - loss: 5.4015e-05\n",
      "Epoch 114/200\n",
      "845/845 [==============================] - 3s 3ms/step - loss: 5.7933e-05\n",
      "Epoch 115/200\n",
      "845/845 [==============================] - 3s 3ms/step - loss: 6.1962e-05\n",
      "Epoch 116/200\n",
      "845/845 [==============================] - 3s 3ms/step - loss: 5.8889e-05\n",
      "Epoch 117/200\n",
      "845/845 [==============================] - 3s 3ms/step - loss: 6.0276e-05\n",
      "Epoch 118/200\n",
      "845/845 [==============================] - 3s 3ms/step - loss: 5.2100e-05\n",
      "Epoch 119/200\n",
      "845/845 [==============================] - 3s 3ms/step - loss: 6.9897e-05\n",
      "Epoch 120/200\n",
      "845/845 [==============================] - 3s 3ms/step - loss: 5.4039e-05\n",
      "Epoch 121/200\n",
      "845/845 [==============================] - 3s 3ms/step - loss: 5.3403e-05\n",
      "Epoch 122/200\n",
      "845/845 [==============================] - 3s 3ms/step - loss: 6.1490e-05\n",
      "Epoch 123/200\n",
      "845/845 [==============================] - 3s 3ms/step - loss: 5.3129e-05\n",
      "Epoch 124/200\n",
      "845/845 [==============================] - 3s 3ms/step - loss: 5.6403e-05\n",
      "Epoch 125/200\n",
      "845/845 [==============================] - 3s 3ms/step - loss: 5.5388e-05\n",
      "Epoch 126/200\n",
      "845/845 [==============================] - 3s 3ms/step - loss: 4.9781e-05\n",
      "Epoch 127/200\n",
      "845/845 [==============================] - 3s 3ms/step - loss: 7.7819e-05\n",
      "Epoch 128/200\n",
      "845/845 [==============================] - 3s 3ms/step - loss: 6.4950e-05\n",
      "Epoch 129/200\n",
      "845/845 [==============================] - 3s 3ms/step - loss: 6.5454e-05\n",
      "Epoch 130/200\n",
      "845/845 [==============================] - 3s 3ms/step - loss: 5.4746e-05\n",
      "Epoch 131/200\n",
      "845/845 [==============================] - 3s 3ms/step - loss: 5.0418e-05\n",
      "Epoch 132/200\n",
      "845/845 [==============================] - 3s 3ms/step - loss: 5.5642e-05\n",
      "Epoch 133/200\n",
      "845/845 [==============================] - 3s 3ms/step - loss: 7.8944e-05\n",
      "Epoch 134/200\n",
      "845/845 [==============================] - 3s 3ms/step - loss: 6.1280e-05\n",
      "Epoch 135/200\n",
      "845/845 [==============================] - 3s 3ms/step - loss: 4.9607e-05\n",
      "Epoch 136/200\n",
      "845/845 [==============================] - 3s 3ms/step - loss: 6.4027e-05\n",
      "Epoch 137/200\n",
      "845/845 [==============================] - 3s 3ms/step - loss: 6.0486e-05\n",
      "Epoch 138/200\n",
      "845/845 [==============================] - 3s 3ms/step - loss: 5.0081e-05\n",
      "Epoch 139/200\n",
      "845/845 [==============================] - 3s 3ms/step - loss: 4.8506e-05\n",
      "Epoch 140/200\n",
      "845/845 [==============================] - 3s 3ms/step - loss: 4.7253e-05\n",
      "Epoch 141/200\n",
      "845/845 [==============================] - 3s 3ms/step - loss: 5.2114e-05\n",
      "Epoch 142/200\n",
      "845/845 [==============================] - 3s 3ms/step - loss: 5.1597e-05\n",
      "Epoch 143/200\n",
      "845/845 [==============================] - 3s 3ms/step - loss: 5.4119e-05\n",
      "Epoch 144/200\n",
      "845/845 [==============================] - 3s 3ms/step - loss: 5.0428e-05\n",
      "Epoch 145/200\n",
      "845/845 [==============================] - 3s 3ms/step - loss: 5.9047e-05\n",
      "Epoch 146/200\n",
      "845/845 [==============================] - 3s 4ms/step - loss: 5.3374e-05\n",
      "Epoch 147/200\n",
      "845/845 [==============================] - 3s 3ms/step - loss: 5.1508e-05\n",
      "Epoch 148/200\n",
      "845/845 [==============================] - 3s 3ms/step - loss: 5.1469e-05\n",
      "Epoch 149/200\n",
      "845/845 [==============================] - 3s 3ms/step - loss: 4.9087e-05\n",
      "Epoch 150/200\n",
      "845/845 [==============================] - 3s 3ms/step - loss: 5.2770e-05\n",
      "Epoch 151/200\n",
      "845/845 [==============================] - 3s 3ms/step - loss: 6.4856e-05\n",
      "Epoch 152/200\n",
      "845/845 [==============================] - 3s 3ms/step - loss: 5.7369e-05\n",
      "Epoch 153/200\n",
      "845/845 [==============================] - 3s 3ms/step - loss: 5.2535e-05\n",
      "Epoch 154/200\n",
      "845/845 [==============================] - 3s 3ms/step - loss: 6.2799e-05\n",
      "Epoch 155/200\n",
      "845/845 [==============================] - 3s 3ms/step - loss: 5.1814e-05\n",
      "Epoch 156/200\n",
      "845/845 [==============================] - 3s 3ms/step - loss: 6.1207e-05\n",
      "Epoch 157/200\n",
      "845/845 [==============================] - 3s 3ms/step - loss: 7.2322e-05\n",
      "Epoch 158/200\n",
      "845/845 [==============================] - 3s 3ms/step - loss: 4.8654e-05\n",
      "Epoch 159/200\n",
      "845/845 [==============================] - 3s 3ms/step - loss: 4.9758e-05\n",
      "Epoch 160/200\n",
      "845/845 [==============================] - 3s 3ms/step - loss: 4.5586e-05\n",
      "Epoch 161/200\n",
      "845/845 [==============================] - 3s 3ms/step - loss: 4.7247e-05\n",
      "Epoch 162/200\n",
      "845/845 [==============================] - 3s 3ms/step - loss: 5.2444e-05\n",
      "Epoch 163/200\n",
      "845/845 [==============================] - 3s 3ms/step - loss: 5.0436e-05\n",
      "Epoch 164/200\n",
      "845/845 [==============================] - 3s 3ms/step - loss: 4.9633e-05\n",
      "Epoch 165/200\n",
      "845/845 [==============================] - 3s 3ms/step - loss: 4.9378e-05\n",
      "Epoch 166/200\n",
      "845/845 [==============================] - 3s 3ms/step - loss: 6.3565e-05\n",
      "Epoch 167/200\n",
      "845/845 [==============================] - 3s 3ms/step - loss: 5.4278e-05\n",
      "Epoch 168/200\n",
      "845/845 [==============================] - 3s 3ms/step - loss: 4.9128e-05\n",
      "Epoch 169/200\n",
      "845/845 [==============================] - 3s 3ms/step - loss: 5.5907e-05\n",
      "Epoch 170/200\n",
      "845/845 [==============================] - 3s 3ms/step - loss: 5.2521e-05\n",
      "Epoch 171/200\n",
      "845/845 [==============================] - 3s 3ms/step - loss: 4.9481e-05\n",
      "Epoch 172/200\n",
      "845/845 [==============================] - 3s 3ms/step - loss: 4.9377e-05\n",
      "Epoch 173/200\n",
      "845/845 [==============================] - 3s 3ms/step - loss: 4.8145e-05\n",
      "Epoch 174/200\n",
      "845/845 [==============================] - 3s 3ms/step - loss: 4.9160e-05\n",
      "Epoch 175/200\n",
      "845/845 [==============================] - 3s 3ms/step - loss: 4.7343e-05\n",
      "Epoch 176/200\n",
      "845/845 [==============================] - 3s 3ms/step - loss: 4.9983e-05\n",
      "Epoch 177/200\n",
      "845/845 [==============================] - 3s 3ms/step - loss: 4.8855e-05\n",
      "Epoch 178/200\n",
      "845/845 [==============================] - 3s 3ms/step - loss: 5.4029e-05\n",
      "Epoch 179/200\n",
      "845/845 [==============================] - 3s 3ms/step - loss: 4.8705e-05\n",
      "Epoch 180/200\n",
      "845/845 [==============================] - 3s 3ms/step - loss: 4.8976e-05\n",
      "Epoch 181/200\n",
      "845/845 [==============================] - 3s 3ms/step - loss: 5.0770e-05\n",
      "Epoch 182/200\n",
      "845/845 [==============================] - 3s 3ms/step - loss: 4.5078e-05\n",
      "Epoch 183/200\n",
      "845/845 [==============================] - 3s 3ms/step - loss: 4.9519e-05\n",
      "Epoch 184/200\n",
      "845/845 [==============================] - 3s 3ms/step - loss: 6.6811e-05\n",
      "Epoch 185/200\n",
      "845/845 [==============================] - 3s 3ms/step - loss: 6.2322e-05\n",
      "Epoch 186/200\n",
      "845/845 [==============================] - 3s 3ms/step - loss: 4.3556e-05\n",
      "Epoch 187/200\n",
      "845/845 [==============================] - 3s 3ms/step - loss: 5.2033e-05\n",
      "Epoch 188/200\n",
      "845/845 [==============================] - 3s 3ms/step - loss: 5.4546e-05\n",
      "Epoch 189/200\n",
      "845/845 [==============================] - 3s 3ms/step - loss: 4.5920e-05\n",
      "Epoch 190/200\n",
      "845/845 [==============================] - 3s 3ms/step - loss: 4.9539e-05\n",
      "Epoch 191/200\n",
      "845/845 [==============================] - 3s 3ms/step - loss: 5.4332e-05\n",
      "Epoch 192/200\n",
      "845/845 [==============================] - 3s 3ms/step - loss: 4.9065e-05\n",
      "Epoch 193/200\n",
      "845/845 [==============================] - 3s 3ms/step - loss: 4.6688e-05\n",
      "Epoch 194/200\n",
      "845/845 [==============================] - 3s 3ms/step - loss: 7.5722e-05\n",
      "Epoch 195/200\n",
      "845/845 [==============================] - 3s 3ms/step - loss: 5.0512e-05\n",
      "Epoch 196/200\n",
      "845/845 [==============================] - 3s 3ms/step - loss: 5.1951e-05\n",
      "Epoch 197/200\n",
      "845/845 [==============================] - 3s 3ms/step - loss: 4.9867e-05\n",
      "Epoch 198/200\n",
      "845/845 [==============================] - 3s 3ms/step - loss: 4.5575e-05\n",
      "Epoch 199/200\n",
      "845/845 [==============================] - 3s 3ms/step - loss: 4.7377e-05\n",
      "Epoch 200/200\n",
      "845/845 [==============================] - 3s 3ms/step - loss: 4.6102e-05\n"
     ]
    },
    {
     "data": {
      "text/plain": [
       "<tensorflow.python.keras.callbacks.History at 0x7f92c0cb6780>"
      ]
     },
     "execution_count": 38,
     "metadata": {
      "tags": []
     },
     "output_type": "execute_result"
    }
   ],
   "source": [
    "model.fit(X_train, Y_train, epochs=200, batch_size=32)"
   ]
  },
  {
   "cell_type": "markdown",
   "metadata": {
    "colab_type": "text",
    "id": "lu5AEOc26wkf"
   },
   "source": [
    "###Evaluation of LSTM model"
   ]
  },
  {
   "cell_type": "code",
   "execution_count": null,
   "metadata": {
    "colab": {},
    "colab_type": "code",
    "id": "rt0HIrwxyWDf"
   },
   "outputs": [],
   "source": [
    "predicted_value= model.predict(X_test)"
   ]
  },
  {
   "cell_type": "code",
   "execution_count": 40,
   "metadata": {
    "colab": {
     "base_uri": "https://localhost:8080/",
     "height": 295
    },
    "colab_type": "code",
    "executionInfo": {
     "elapsed": 1464,
     "status": "ok",
     "timestamp": 1554815860409,
     "user": {
      "displayName": "Bjorn Jee",
      "photoUrl": "",
      "userId": "01524592455651190370"
     },
     "user_tz": -480
    },
    "id": "zZR0HeBbyWDh",
    "outputId": "5a18d078-c482-4a67-a86b-19d67d9b28c0"
   },
   "outputs": [
    {
     "data": {
      "image/png": "[encoded data removed]",
      "text/plain": [
       "<Figure size 432x288 with 1 Axes>"
      ]
     },
     "metadata": {
      "tags": []
     },
     "output_type": "display_data"
    }
   ],
   "source": [
    "plt.plot(predicted_value, color= 'red', label='predicted')\n",
    "plt.plot(Y_test, color='green',label = 'actual')\n",
    "plt.title(\"Average price of stocks sold\")\n",
    "plt.xlabel(\"Time (latest-> oldest)\")\n",
    "plt.ylabel(\"Stock Average Price\")\n",
    "plt.legend(loc='upper left')\n",
    "plt.show()"
   ]
  },
  {
   "cell_type": "code",
   "execution_count": 41,
   "metadata": {
    "colab": {
     "base_uri": "https://localhost:8080/",
     "height": 51
    },
    "colab_type": "code",
    "executionInfo": {
     "elapsed": 1918,
     "status": "ok",
     "timestamp": 1554815864149,
     "user": {
      "displayName": "Bjorn Jee",
      "photoUrl": "",
      "userId": "01524592455651190370"
     },
     "user_tz": -480
    },
    "id": "oL8nSXhbyWD0",
    "outputId": "8ece2916-a8ed-4a9b-a484-b6fe002543e8"
   },
   "outputs": [
    {
     "name": "stdout",
     "output_type": "stream",
     "text": [
      "(312,)\n",
      "(312,)\n"
     ]
    }
   ],
   "source": [
    "predicted_value.shape\n",
    "y_predict = predicted_value.reshape(predicted_value.shape[0])\n",
    "print(y_predict.shape)\n",
    "print(Y_test.shape)"
   ]
  },
  {
   "cell_type": "markdown",
   "metadata": {
    "colab_type": "text",
    "id": "Bp404yE3yWER"
   },
   "source": [
    "Tesing our model using different metrics"
   ]
  },
  {
   "cell_type": "code",
   "execution_count": 42,
   "metadata": {
    "colab": {
     "base_uri": "https://localhost:8080/",
     "height": 80
    },
    "colab_type": "code",
    "executionInfo": {
     "elapsed": 1510,
     "status": "ok",
     "timestamp": 1554815867545,
     "user": {
      "displayName": "Bjorn Jee",
      "photoUrl": "",
      "userId": "01524592455651190370"
     },
     "user_tz": -480
    },
    "id": "3kwxmVqpyWET",
    "outputId": "b487bb26-0d5c-4eec-f2b5-3c0f5af57bd7"
   },
   "outputs": [
    {
     "data": {
      "text/html": [
       "<div>\n",
       "<style scoped>\n",
       "    .dataframe tbody tr th:only-of-type {\n",
       "        vertical-align: middle;\n",
       "    }\n",
       "\n",
       "    .dataframe tbody tr th {\n",
       "        vertical-align: top;\n",
       "    }\n",
       "\n",
       "    .dataframe thead th {\n",
       "        text-align: right;\n",
       "    }\n",
       "</style>\n",
       "<table border=\"1\" class=\"dataframe\">\n",
       "  <thead>\n",
       "    <tr style=\"text-align: right;\">\n",
       "      <th></th>\n",
       "      <th>Model</th>\n",
       "      <th>R2 Score</th>\n",
       "      <th>Mean Squared Error</th>\n",
       "    </tr>\n",
       "  </thead>\n",
       "  <tbody>\n",
       "    <tr>\n",
       "      <th>0</th>\n",
       "      <td>LSTM</td>\n",
       "      <td>0.872484</td>\n",
       "      <td>0.002138</td>\n",
       "    </tr>\n",
       "  </tbody>\n",
       "</table>\n",
       "</div>"
      ],
      "text/plain": [
       "  Model  R2 Score  Mean Squared Error\n",
       "0  LSTM  0.872484            0.002138"
      ]
     },
     "execution_count": 42,
     "metadata": {
      "tags": []
     },
     "output_type": "execute_result"
    }
   ],
   "source": [
    "d = {'Model':'LSTM','R2 Score':[r2_score(Y_test,y_predict)],'Mean Squared Error':[mean_squared_error(Y_test,y_predict)]}\n",
    "results = pd.DataFrame(data = d)\n",
    "results[['Model','R2 Score','Mean Squared Error']]"
   ]
  },
  {
   "cell_type": "code",
   "execution_count": 43,
   "metadata": {
    "colab": {
     "base_uri": "https://localhost:8080/",
     "height": 51
    },
    "colab_type": "code",
    "executionInfo": {
     "elapsed": 587,
     "status": "ok",
     "timestamp": 1554815869925,
     "user": {
      "displayName": "Bjorn Jee",
      "photoUrl": "",
      "userId": "01524592455651190370"
     },
     "user_tz": -480
    },
    "id": "xiTu4kz_AoS2",
    "outputId": "518b3fe8-c634-4e2e-e236-1e49293b29e7"
   },
   "outputs": [
    {
     "name": "stdout",
     "output_type": "stream",
     "text": [
      "last date: 06-02-2018\n",
      "predicted price for 07-02-2018 :1268.383057\n"
     ]
    }
   ],
   "source": [
    "data_size = len(input_data[:,0])\n",
    "test_data = input_data[data_size-50:,:2]\n",
    "test_data = test_data.reshape(1,50,2)\n",
    "out = model.predict(test_data)\n",
    "#print(out)\n",
    "out_inv = scaler_ave.inverse_transform(out)\n",
    "#print(out_inv)\n",
    "print('last date: ' + input_data[n-1,2].strftime('%d-%m-%Y'))\n",
    "print('predicted price for 07-02-2018 :%f'%out_inv[0])"
   ]
  },
  {
   "cell_type": "code",
   "execution_count": null,
   "metadata": {
    "colab": {},
    "colab_type": "code",
    "id": "IMa4GnhyCEps"
   },
   "outputs": [],
   "source": []
  }
 ],
 "metadata": {
  "accelerator": "GPU",
  "colab": {
   "collapsed_sections": [],
   "name": "Copy of Final_Amazon_Analysis.ipynb",
   "provenance": [
    {
     "file_id": "1U6Xg6KpwAP_-_8upeD_ub5jFwp3xBcRe",
     "timestamp": 1554817122063
    }
   ],
   "version": "0.3.2"
  },
  "kernelspec": {
   "display_name": "Python 3",
   "language": "python",
   "name": "python3"
  },
  "language_info": {
   "codemirror_mode": {
    "name": "ipython",
    "version": 3
   },
   "file_extension": ".py",
   "mimetype": "text/x-python",
   "name": "python",
   "nbconvert_exporter": "python",
   "pygments_lexer": "ipython3",
   "version": "3.7.0"
  }
 },
 "nbformat": 4,
 "nbformat_minor": 2
}
